{
 "cells": [
  {
   "cell_type": "markdown",
   "metadata": {
    "collapsed": false,
    "scrolled": false
   },
   "source": [
    "'''\n",
    "Also try plot.ly/create !\n",
    "https://plot.ly/python/ipython-notebook-tutorial/\n",
    "https://plot.ly/python/line-and-scatter/\n",
    "https://plot.ly/python/heatmaps/\n",
    "https://plot.ly/python/histograms/\n",
    "https://plot.ly/python/3d-surface-plots/\n",
    "https://plot.ly/python/3d-network-graph/ # TODO\n",
    "'''\n",
    "\n",
    "import plotly\n",
    "import plotly.graph_objs as go\n",
    "import plotly.figure_factory as ff\n",
    "plotly.offline.init_notebook_mode(connected=True)\n",
    "\n",
    "import numpy as np"
   ]
  },
  {
   "cell_type": "markdown",
   "metadata": {
    "collapsed": true
   },
   "source": [
    "plotly.offline.iplot({\n",
    "        'data': [go.Scatter(x=np.arange(10), y=np.random.rand(10),\n",
    "                           mode='lines+markers'),\n",
    "                go.Scatter(x=np.arange(10), y=np.random.randn(10),\n",
    "                          mode='lines+markers',\n",
    "                            line=dict(color='cccccc',width=4))],\n",
    "        'layout': {'title': 'Test Plot',\n",
    "                  'xaxis': dict(title='xlabel'),\n",
    "                  'yaxis': dict(title='ylabel')},\n",
    "    })#, image='svg') # Export as SVG"
   ]
  },
  {
   "cell_type": "markdown",
   "metadata": {},
   "source": [
    "table = ff.create_table([['name', 'price', 'number'],\n",
    "         ['apple', 1, 100],\n",
    "         ['banana', 2, 200],\n",
    "         ])\n",
    "plotly.offline.iplot(table)"
   ]
  },
  {
   "cell_type": "markdown",
   "metadata": {},
   "source": [
    "plotly.offline.iplot({\n",
    "        'data': [go.Bar(x=['a', 'b'], y=[3,4])]\n",
    "    })"
   ]
  },
  {
   "cell_type": "markdown",
   "metadata": {},
   "source": [
    "tags = ['a', 'b', 'c']\n",
    "plotly.offline.iplot({\n",
    "    'data': [go.Bar(x=tags, y=[1,2,3], name='attr1'),\n",
    "            go.Bar(x=tags, y=[2,1,3], name='attr2'),\n",
    "            go.Bar(x=tags, y=[3,2,1], name='attr3',\n",
    "                  marker=dict(color='#cc0066'))]\n",
    "})"
   ]
  },
  {
   "cell_type": "markdown",
   "metadata": {},
   "source": [
    "s = np.linspace(0, 2*np.pi, 240)\n",
    "t = np.linspace(0, np.pi, 240)\n",
    "tGrid, sGrid = np.meshgrid(s, t)\n",
    "r = 2 + np.sin(7*sGrid+5*tGrid) # r = 2+sin(7s+5t)\n",
    "x = r * np.cos(sGrid) * np.sin(tGrid) # x = r*cos(s)*sin(t)\n",
    "y = r * np.sin(sGrid) * np.sin(tGrid) # y = r*sin(s)*sin(t)\n",
    "z = r * np.cos(tGrid) # z = r*cos(t)\n",
    "\n",
    "plotly.offline.iplot({\n",
    "        'data': [go.Surface(x=x,y=y,z=z)]\n",
    "    })"
   ]
  },
  {
   "cell_type": "markdown",
   "metadata": {},
   "source": [
    "plotly.offline.iplot({\n",
    "        'data': [go.Surface(z=np.random.randn(50,50),\n",
    "                            colorscale='Rainbow')], # Rainbow YIGnBu Greys Jet Portland Viridis\n",
    "    })"
   ]
  },
  {
   "cell_type": "markdown",
   "metadata": {},
   "source": [
    "plotly.offline.iplot({\n",
    "        'data': [go.Pie(labels=['a','b'], values=[1,3])]\n",
    "    })"
   ]
  },
  {
   "cell_type": "markdown",
   "metadata": {},
   "source": [
    "plotly.offline.iplot({\n",
    "        'data': [go.Scatter(x=np.arange(100),\n",
    "                            y=np.arange(100)+10*np.random.randn(100),\n",
    "                            mode='markers',\n",
    "                            marker=dict(size=7),\n",
    "                            name='Data'),\n",
    "                 go.Scatter(x=np.arange(100),\n",
    "                            y=np.arange(100)+70*(np.random.rand(100)-.5),\n",
    "                            mode='markers',\n",
    "                            marker=dict(size=5),\n",
    "                            name='Data2'),\n",
    "                 go.Scatter(x=np.arange(100),\n",
    "                            y=np.arange(100)+50*np.random.randn(100),\n",
    "                            mode='markers',\n",
    "                            marker=dict(size=10,\n",
    "                                        line=dict(width=1),\n",
    "                                        color=np.random.randn(100),\n",
    "                                        colorscale='Viridis',\n",
    "                                        showscale=True)),\n",
    "                 go.Scatter(x=np.arange(100),\n",
    "                            y=np.arange(100),\n",
    "                            mode='l',\n",
    "                            line=dict(width=1),\n",
    "                            name='Formula')]\n",
    "    })"
   ]
  },
  {
   "cell_type": "markdown",
   "metadata": {},
   "source": [
    "# Large Dataset, WebGL\n",
    "plotly.offline.iplot({\n",
    "        'data': [go.Scattergl(\n",
    "            x=np.random.randn(100),\n",
    "            y=np.random.randn(100),\n",
    "            mode='markers',\n",
    "            marker=dict(size=4))]\n",
    "    })"
   ]
  },
  {
   "cell_type": "markdown",
   "metadata": {},
   "source": [
    "plotly.offline.iplot({\n",
    "        'data': [go.Heatmap(z=np.random.randn(50,50),\n",
    "                            x=np.arange(50),\n",
    "                            y=np.arange(50),\n",
    "                            colorscale='Viridis')],\n",
    "    })\n",
    "#help(go.Heatmap)"
   ]
  },
  {
   "cell_type": "markdown",
   "metadata": {},
   "source": [
    "plotly.offline.iplot({\n",
    "        'data': [go.Histogram(x=np.random.randn(5000),\n",
    "                              opacity=0.5),\n",
    "                 go.Histogram(x=np.random.randn(5000)+1,\n",
    "                              opacity=0.5),\n",
    "                 go.Histogram(x=np.random.randn(5000),\n",
    "                              opacity=0.3,\n",
    "                              cumulative=dict(enabled=True),\n",
    "                              visible=False)],\n",
    "        'layout': dict(barmode='overlay')\n",
    "    })"
   ]
  },
  {
   "cell_type": "markdown",
   "metadata": {},
   "source": [
    "x, y = np.linspace(-10, 10, 300), np.linspace(-10, 10, 300)\n",
    "xG, yG = np.meshgrid(x, y)\n",
    "z = np.power(xG, 2) - np.power(yG, 2)\n",
    "plotly.offline.iplot({\n",
    "        'data': [go.Surface(x=x, y=y, z=z,\n",
    "                            colorscale='Viridis')]\n",
    "    })"
   ]
  },
  {
   "cell_type": "markdown",
   "metadata": {},
   "source": [
    "fig = ff.create_violin(np.random.rand(1000))\n",
    "plotly.offline.iplot(fig)"
   ]
  },
  {
   "cell_type": "markdown",
   "metadata": {},
   "source": [
    "from scipy import stats\n",
    "import pandas as pd\n",
    "# https://plot.ly/python/violin-plot/\n",
    "\n",
    "np.random.seed(619517)\n",
    "Nr = 250\n",
    "y = np.random.randn(Nr)\n",
    "gr = np.random.choice(list(\"ABCDE\"), Nr)\n",
    "norm_params = [(0, 1.2), (0.7, 1), (-0.5, 1.4), (0.3, 1), (0.8, 0.9)]\n",
    "\n",
    "for i, letter in enumerate(\"ABCDE\"):\n",
    "    y[gr == letter] *= norm_params[i][1] + norm_params[i][0]\n",
    "df = pd.DataFrame(dict(Score = y, Group = gr))\n",
    "\n",
    "fig = ff.create_violin(df, data_header='Score', group_header='Group',\n",
    "                       height=500, width=800)\n",
    "plotly.offline.iplot(fig, filename='Multiple Violins')"
   ]
  }
 ],
 "metadata": {
  "kernelspec": {
   "display_name": "Python 3",
   "language": "python",
   "name": "python3"
  },
  "language_info": {
   "codemirror_mode": {
    "name": "ipython",
    "version": 3
   },
   "file_extension": ".py",
   "mimetype": "text/x-python",
   "name": "python",
   "nbconvert_exporter": "python",
   "pygments_lexer": "ipython3",
   "version": "3.5.4rc1"
  }
 },
 "nbformat": 4,
 "nbformat_minor": 2
}
