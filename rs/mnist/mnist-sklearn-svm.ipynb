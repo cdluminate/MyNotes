{
 "cells": [
  {
   "cell_type": "markdown",
   "metadata": {},
   "source": [
    "# reference: https://www.kaggle.com/archaeocharlie/a-beginner-s-approach-to-classification\n",
    "# sklearn , svm, mnist"
   ]
  },
  {
   "cell_type": "code",
   "execution_count": 1,
   "metadata": {
    "collapsed": false
   },
   "outputs": [],
   "source": [
    "import pandas as pd\n",
    "import matplotlib.pyplot as plt, matplotlib.image as mpimg\n",
    "from sklearn.model_selection import train_test_split\n",
    "from sklearn import svm\n",
    "from copy import deepcopy\n",
    "%matplotlib inline"
   ]
  },
  {
   "cell_type": "code",
   "execution_count": 2,
   "metadata": {
    "collapsed": true
   },
   "outputs": [],
   "source": [
    "labeled_images = pd.read_csv('train.csv')\n",
    "images = labeled_images.iloc[0:5000,1:]\n",
    "labels = labeled_images.iloc[0:5000,:1]\n",
    "train_images, test_images, train_labels, test_labels = train_test_split(\n",
    "    images, labels, train_size=0.8, random_state=0)"
   ]
  },
  {
   "cell_type": "code",
   "execution_count": 3,
   "metadata": {
    "collapsed": false
   },
   "outputs": [
    {
     "data": {
      "text/plain": [
       "<matplotlib.text.Text at 0x7f7c3730d940>"
      ]
     },
     "execution_count": 3,
     "metadata": {},
     "output_type": "execute_result"
    },
    {
     "data": {
      "image/png": "[encoded data removed]",
      "text/plain": [
       "<matplotlib.figure.Figure at 0x7f7c37340be0>"
      ]
     },
     "metadata": {},
     "output_type": "display_data"
    }
   ],
   "source": [
    "view_img = train_images.iloc[1].as_matrix()\n",
    "view_img = view_img.reshape((28,28))\n",
    "plt.imshow(view_img, cmap='gray')\n",
    "plt.title(train_labels.iloc[1,0])"
   ]
  },
  {
   "cell_type": "code",
   "execution_count": 4,
   "metadata": {
    "collapsed": false
   },
   "outputs": [
    {
     "data": {
      "text/plain": [
       "(array([ 682.,    9.,   10.,    7.,   10.,   18.,    7.,   17.,    7.,   17.]),\n",
       " array([   0. ,   25.5,   51. ,   76.5,  102. ,  127.5,  153. ,  178.5,\n",
       "         204. ,  229.5,  255. ]),\n",
       " <a list of 10 Patch objects>)"
      ]
     },
     "execution_count": 4,
     "metadata": {},
     "output_type": "execute_result"
    },
    {
     "data": {
      "image/png": "[encoded data removed]",
      "text/plain": [
       "<matplotlib.figure.Figure at 0x7f7c3704fcc0>"
      ]
     },
     "metadata": {},
     "output_type": "display_data"
    }
   ],
   "source": [
    "plt.hist(train_images.iloc[1])"
   ]
  },
  {
   "cell_type": "code",
   "execution_count": 5,
   "metadata": {
    "collapsed": false
   },
   "outputs": [
    {
     "data": {
      "text/plain": [
       "0.10000000000000001"
      ]
     },
     "execution_count": 5,
     "metadata": {},
     "output_type": "execute_result"
    }
   ],
   "source": [
    "clf = svm.SVC()\n",
    "clf.fit (train_images, train_labels.values.ravel())\n",
    "clf.score (test_images, test_labels)"
   ]
  },
  {
   "cell_type": "markdown",
   "metadata": {},
   "source": [
    "# Oops, the 10% accuracy is terrible."
   ]
  },
  {
   "cell_type": "code",
   "execution_count": 7,
   "metadata": {
    "collapsed": false
   },
   "outputs": [
    {
     "data": {
      "text/plain": [
       "<matplotlib.text.Text at 0x7f7c35fdf6d8>"
      ]
     },
     "execution_count": 7,
     "metadata": {},
     "output_type": "execute_result"
    },
    {
     "data": {
      "image/png": "[encoded data removed]",
      "text/plain": [
       "<matplotlib.figure.Figure at 0x7f7c35ff2ef0>"
      ]
     },
     "metadata": {},
     "output_type": "display_data"
    }
   ],
   "source": [
    "test_images_bin = test_images>0\n",
    "train_images_bin = train_images>0\n",
    "\n",
    "view_image = train_images_bin.iloc[1].as_matrix().reshape((28,28))\n",
    "plt.imshow(view_image, cmap='binary')\n",
    "plt.title(train_labels.iloc[1])"
   ]
  },
  {
   "cell_type": "code",
   "execution_count": 8,
   "metadata": {
    "collapsed": false,
    "scrolled": false,
    "slideshow": {
     "slide_type": "-"
    }
   },
   "outputs": [
    {
     "data": {
      "text/plain": [
       "(array([ 668.,    0.,    0.,    0.,    0.,    0.,    0.,    0.,    0.,  116.]),\n",
       " array([ 0. ,  0.1,  0.2,  0.3,  0.4,  0.5,  0.6,  0.7,  0.8,  0.9,  1. ]),\n",
       " <a list of 10 Patch objects>)"
      ]
     },
     "execution_count": 8,
     "metadata": {},
     "output_type": "execute_result"
    },
    {
     "data": {
      "image/png": "[encoded data removed]",
      "text/plain": [
       "<matplotlib.figure.Figure at 0x7f7c36027400>"
      ]
     },
     "metadata": {},
     "output_type": "display_data"
    }
   ],
   "source": [
    "plt.hist(train_images_bin.iloc[1])"
   ]
  },
  {
   "cell_type": "code",
   "execution_count": 9,
   "metadata": {
    "collapsed": false
   },
   "outputs": [
    {
     "data": {
      "text/plain": [
       "0.88700000000000001"
      ]
     },
     "execution_count": 9,
     "metadata": {},
     "output_type": "execute_result"
    }
   ],
   "source": [
    "clf = svm.SVC()\n",
    "clf.fit (train_images_bin, train_labels.values.ravel())\n",
    "clf.score(test_images_bin, test_labels)"
   ]
  },
  {
   "cell_type": "code",
   "execution_count": 10,
   "metadata": {
    "collapsed": false
   },
   "outputs": [
    {
     "data": {
      "text/plain": [
       "array([9, 7, 6, 9, 2, 7, 8, 1, 4, 2, 8, 2, 5, 3, 2, 5, 9, 0, 3, 5, 6, 0, 4,\n",
       "       6, 5, 8, 3, 5, 2, 3, 2, 5, 0, 0, 5, 4, 0, 7, 1, 2, 9, 4, 3, 2, 1, 4,\n",
       "       0, 0, 4, 8, 5, 0, 1, 6, 5, 8, 5, 9, 4, 3, 9, 0, 4, 0, 1, 2, 5, 0, 1,\n",
       "       3, 5, 2, 8, 1, 2, 0, 1, 7, 9, 9, 8, 7, 7, 7, 5, 0, 7, 9, 1, 5, 4, 7,\n",
       "       9, 0, 4, 7, 2, 2, 9, 7, 5, 2, 2, 6, 0, 9, 8, 9, 3, 1, 9, 4, 0, 6, 8,\n",
       "       9, 6, 9, 0, 2, 9, 9, 2, 6, 7, 1, 8, 5, 5, 8, 7, 8, 2, 7, 4, 8, 6, 9,\n",
       "       2, 7, 4, 3, 1, 4, 9, 5, 8, 9, 9, 2, 5, 1, 6, 3, 2, 8, 9, 6, 4, 2, 3,\n",
       "       5, 4, 7, 7, 9, 2, 8, 9, 9, 1, 8, 4, 9, 4, 0, 5, 6, 8, 4, 3, 4, 0, 3,\n",
       "       6, 2, 4, 1, 5, 0, 6, 6, 4, 0, 8, 4, 5, 4, 7, 2, 7, 2, 3, 6, 0, 4, 2,\n",
       "       3, 0, 9, 9, 1, 7, 2, 1, 4, 6, 1, 4, 8, 2, 6, 3, 2, 0, 7, 0, 0, 6, 0,\n",
       "       1, 4, 5, 1, 4, 3, 1, 6, 3, 2, 1, 8, 1, 1, 2, 5, 5, 0, 4, 9, 1, 1, 2,\n",
       "       7, 7, 3, 1, 9, 6, 2, 8, 6, 7, 6, 5, 6, 8, 0, 1, 3, 4, 7, 1, 7, 2, 6,\n",
       "       9, 9, 7, 8, 1, 1, 4, 9, 5, 6, 9, 4, 2, 8, 7, 7, 4, 9, 3, 4, 1, 3, 6,\n",
       "       0, 3, 7, 2, 6, 7, 2, 7, 2, 7, 4, 1, 2, 2, 7, 4, 2, 7, 1, 5, 7, 8, 1,\n",
       "       1, 3, 1, 7, 5, 3, 7, 7, 8, 1, 6, 4, 3, 1, 3, 2, 6, 2, 5, 0, 9, 0, 3,\n",
       "       6, 0, 5, 0, 1, 4, 0, 3, 0, 2, 2, 1, 1, 7, 2, 2, 6, 9, 4, 1, 4, 1, 7,\n",
       "       0, 3, 8, 3, 6, 9, 3, 2, 0, 5, 4, 5, 3, 0, 9, 8, 7, 3, 0, 7, 7, 0, 9,\n",
       "       6, 0, 0, 0, 8, 6, 0, 0, 4, 3, 0, 3, 0, 9, 6, 4, 2, 1, 4, 1, 4, 0, 4,\n",
       "       4, 3, 9, 0, 6, 5, 5, 3, 5, 9, 5, 8, 5, 9, 9, 9, 6, 3, 9, 3, 2, 9, 9,\n",
       "       6, 1, 4, 7, 7, 9, 7, 5, 7, 7, 7, 8, 3, 4, 8, 0, 6, 2, 0, 3, 2, 2, 6,\n",
       "       3, 1, 2, 2, 1, 3, 9, 9, 8, 4, 9, 5, 7, 9, 6, 8, 7, 7, 9, 7, 1, 9, 6,\n",
       "       5, 5, 5, 7, 1, 7, 8, 8, 6, 5, 7, 9, 8, 6, 8, 4, 9, 5, 6, 6, 0, 3, 1,\n",
       "       5, 2, 1, 2, 0, 1, 6, 1, 6, 8, 9, 5, 6, 1, 0, 2, 8, 0, 0, 3, 3, 3, 2,\n",
       "       4, 0, 6, 4, 9, 4, 3, 1, 0, 1, 8, 4, 3, 0, 8, 1, 3, 1, 3, 1, 9, 3, 0,\n",
       "       2, 6, 6, 1, 8, 6, 3, 4, 2, 5, 0, 7, 6, 4, 2, 5, 5, 1, 9, 5, 6, 5, 5,\n",
       "       0, 6, 3, 7, 2, 1, 0, 2, 2, 6, 3, 7, 9, 5, 4, 6, 1, 7, 9, 1, 0, 6, 4,\n",
       "       4, 6, 7, 0, 0, 3, 0, 9, 9, 1, 1, 3, 2, 6, 0, 6, 7, 1, 6, 1, 3, 4, 2,\n",
       "       4, 1, 3, 6, 6, 3, 4, 9, 7, 2, 1, 4, 4, 7, 1, 5, 9, 0, 0, 6, 6, 3, 6,\n",
       "       7, 7, 1, 8, 8, 1, 5, 8, 1, 4, 4, 2, 4, 6, 9, 3, 1, 4, 1, 0, 7, 5, 8,\n",
       "       4, 2, 7, 9, 3, 7, 1, 3, 2, 4, 0, 3, 1, 0, 8, 5, 4, 7, 4, 2, 4, 5, 4,\n",
       "       2, 5, 0, 2, 8, 0, 6, 5, 3, 0, 6, 8, 4, 8, 5, 4, 3, 3, 3, 3, 4, 9, 9,\n",
       "       3, 5, 4, 5, 5, 3, 9, 3, 1, 3, 8, 4, 9, 5, 9, 7, 9, 6, 2, 3, 1, 0, 2,\n",
       "       3, 0, 9, 7, 0, 9, 7, 5, 1, 1, 7, 8, 2, 1, 2, 7, 3, 1, 0, 7, 0, 6, 7,\n",
       "       9, 9, 9, 0, 6, 3, 9, 9, 8, 9, 7, 8, 2, 4, 1, 8, 0, 4, 4, 9, 3, 2, 9,\n",
       "       8, 2, 7, 7, 8, 0, 8, 7, 1, 8, 8, 1, 5, 1, 6, 4, 4, 5, 3, 3, 3, 9, 7,\n",
       "       8, 7, 1, 7, 4, 3, 6, 1, 9, 9, 7, 4, 9, 6, 0, 7, 6, 7, 5, 8, 3, 7, 9,\n",
       "       4, 1, 1, 5, 8, 8, 7, 0, 6, 8, 9, 8, 3, 9, 9, 4, 2, 5, 0, 8, 7, 7, 0,\n",
       "       4, 2, 3, 4, 0, 4, 5, 7, 5, 4, 0, 5, 9, 3, 1, 4, 2, 9, 8, 5, 8, 2, 4,\n",
       "       2, 6, 1, 7, 2, 0, 5, 1, 3, 6, 0, 8, 4, 2, 3, 3, 3, 5, 8, 0, 4, 3, 0,\n",
       "       2, 6, 0, 8, 2, 5, 2, 6, 0, 2, 9, 0, 7, 5, 6, 2, 4, 0, 9, 1, 6, 6, 6,\n",
       "       3, 1, 2, 3, 4, 0, 8, 0, 8, 1, 4, 1, 3, 0, 6, 8, 1, 3, 8, 7, 4, 8, 7,\n",
       "       5, 1, 8, 0, 5, 3, 8, 1, 9, 4, 5, 2, 7, 7, 0, 1, 1, 2, 0, 8, 2, 8, 9,\n",
       "       4, 4, 6, 7, 6, 9, 9, 8, 5, 6, 6, 6, 3, 2, 0, 7, 1, 8, 9, 6, 1, 7, 3,\n",
       "       6, 8, 5, 3, 5, 6, 0, 5, 6, 7, 1])"
      ]
     },
     "execution_count": 10,
     "metadata": {},
     "output_type": "execute_result"
    }
   ],
   "source": [
    "clf.predict(test_images_bin)"
   ]
  },
  {
   "cell_type": "code",
   "execution_count": 11,
   "metadata": {
    "collapsed": false
   },
   "outputs": [
    {
     "data": {
      "text/plain": [
       "255"
      ]
     },
     "execution_count": 11,
     "metadata": {},
     "output_type": "execute_result"
    }
   ],
   "source": [
    "train_images.iloc[0].values.max()"
   ]
  },
  {
   "cell_type": "code",
   "execution_count": 12,
   "metadata": {
    "collapsed": false
   },
   "outputs": [
    {
     "data": {
      "text/plain": [
       "(array([ 682.,    9.,   10.,    7.,   10.,   18.,    7.,   17.,    7.,   17.]),\n",
       " array([ 0. ,  0.1,  0.2,  0.3,  0.4,  0.5,  0.6,  0.7,  0.8,  0.9,  1. ]),\n",
       " <a list of 10 Patch objects>)"
      ]
     },
     "execution_count": 12,
     "metadata": {},
     "output_type": "execute_result"
    },
    {
     "data": {
      "image/png": "[encoded data removed]",
      "text/plain": [
       "<matplotlib.figure.Figure at 0x7f7c35f66f28>"
      ]
     },
     "metadata": {},
     "output_type": "display_data"
    }
   ],
   "source": [
    "train_images_normalize = train_images / 255\n",
    "test_images_normalize = test_images / 255\n",
    "\n",
    "plt.hist(train_images_normalize.iloc[1])"
   ]
  },
  {
   "cell_type": "code",
   "execution_count": 13,
   "metadata": {
    "collapsed": false
   },
   "outputs": [
    {
     "data": {
      "text/plain": [
       "0.88300000000000001"
      ]
     },
     "execution_count": 13,
     "metadata": {},
     "output_type": "execute_result"
    }
   ],
   "source": [
    "clf = svm.SVC()\n",
    "clf.fit(train_images_normalize, train_labels.values.ravel())\n",
    "clf.score(test_images_normalize, test_labels)"
   ]
  },
  {
   "cell_type": "markdown",
   "metadata": {},
   "source": [
    "# labeling test data"
   ]
  },
  {
   "cell_type": "code",
   "execution_count": 18,
   "metadata": {
    "collapsed": false
   },
   "outputs": [
    {
     "name": "stdout",
     "output_type": "stream",
     "text": [
      "[2 0 9 ..., 1 7 3]\n"
     ]
    }
   ],
   "source": [
    "test_data = pd.read_csv('test.csv')\n",
    "test_data_normalize = test_data / 255\n",
    "results = clf.predict(test_data_normalize[0:5000])\n",
    "\n",
    "print(results)\n",
    "\n",
    "df = pd.DataFrame(results)\n",
    "df.index.name='ImageId'\n",
    "df.index+=1\n",
    "df.columns=['Label']\n",
    "df.to_csv('results.csv', header=True)"
   ]
  }
 ],
 "metadata": {
  "kernelspec": {
   "display_name": "Python 3",
   "language": "python",
   "name": "python3"
  },
  "language_info": {
   "codemirror_mode": {
    "name": "ipython",
    "version": 3
   },
   "file_extension": ".py",
   "mimetype": "text/x-python",
   "name": "python",
   "nbconvert_exporter": "python",
   "pygments_lexer": "ipython3",
   "version": "3.5.3+"
  }
 },
 "nbformat": 4,
 "nbformat_minor": 2
}
