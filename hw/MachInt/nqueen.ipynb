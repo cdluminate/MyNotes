{
 "cells": [
  {
   "cell_type": "markdown",
   "id": "7ad746c4",
   "metadata": {},
   "source": [
    "# Project-1 N-Queen Solvers\n",
    "\n",
    "Author: Mo Zhou <mzhou32@jhu.edu>\n",
    "Date: Apr. 5 2022\n",
    "\n",
    "## 1. Problem Description\n",
    "\n",
    "We had lots of fun with the 8-Queens problem. In this project you will implement several search and constraint optimization algorithms for generating solutions to the 8-Queens problem. Implement four of your favorite algorithms for solving the 8-Queens problem using any language you like. Diversity in chosen search algorithms is expected. Compare their performance using appropriate metrics. \n",
    "\n",
    "In this project, I choose 5 algorithm for the n-queen problem:\n",
    "\n",
    "* Naive Depth-First Search\n",
    "* Backtrack Search\n",
    "* Greedy Local Search\n",
    "* Simulated Annealing\n",
    "* Local Beam Search\n",
    "\n",
    "See the folloinwg sections for detail. In the last section, we will benchmark these algorithms and compare their time consumption."
   ]
  },
  {
   "cell_type": "markdown",
   "id": "8f0fc036",
   "metadata": {},
   "source": [
    "### 1.1. Python initialization\n",
    "\n",
    "In this part, we import some packages that will be used later. First, we define the representation of the solution as a vector where each element indicates the Queen location (column index) in the corresponding row. For the n-queen problem, the vector size will be n, and its i-th element being j means the i-th queen locates at (i,j) position.\n",
    "\n",
    "Given such representation, we first write a helper `cbdump()` to convert the vector representation into text checkboard for visualization.\n",
    "\n",
    "**Note**, the random seed is fixed to (1) in order to ensure experiment reproducibility, because there will be some algorithms relying on random steps."
   ]
  },
  {
   "cell_type": "code",
   "execution_count": 1,
   "id": "e9922b05",
   "metadata": {},
   "outputs": [],
   "source": [
    "#!/usr/bin/pypy3\n",
    "import time\n",
    "import itertools as it\n",
    "import functools as ft\n",
    "import random\n",
    "import math\n",
    "import rich\n",
    "from collections import Counter\n",
    "from rich.progress import track\n",
    "c = rich.get_console()\n",
    "random.seed(1)\n",
    "\n",
    "\n",
    "def cbdump(v: list) -> str:\n",
    "    '''\n",
    "    Construct a textural representation of the checkboard.\n",
    "    '''\n",
    "    n = len(v)\n",
    "    rows = [['Q ' if v[i]==j else '. ' for j in range(n)] for i in range(n)]\n",
    "    rows = '\\n'.join([''.join(row) for row in rows])\n",
    "    return rows"
   ]
  },
  {
   "cell_type": "markdown",
   "id": "121fcba3",
   "metadata": {},
   "source": [
    "## 2. Naive Deep First Search"
   ]
  },
  {
   "cell_type": "markdown",
   "id": "3617c0e7",
   "metadata": {},
   "source": [
    "### 2.1 solution checker\n",
    "\n",
    "To begin with, we need to write a solution checker. Given a vector of length n, we need to tell whether this vector presents a valid solution to the nqueen problem.\n",
    "\n",
    "Specifically, the checker will validate (1) whether the given solution is complete. In other words, whether the vector length is n; (2) whether there is column attack; (3) whether there is diagonal attack. If there is no attack at all after all the checks, and the solution is complete, then the checker returns True. Otherwise the checker will return false because the vector is not a valid complete solution."
   ]
  },
  {
   "cell_type": "code",
   "execution_count": 2,
   "id": "05923972",
   "metadata": {},
   "outputs": [],
   "source": [
    "def isvalid(v: list, n: int = None, debug: bool = False) -> bool:\n",
    "    '''\n",
    "    Tells whether the given vector `v` is a valid solution for n-queen.\n",
    "    The vector is a row-based representation of the checkboard.\n",
    "    v[0] == 0 means the queen for the first row is placed at the first column.\n",
    "    '''\n",
    "    # dealing with convenience call\n",
    "    if v and (n is None):\n",
    "        n = len(v)\n",
    "    # helper function for checking diagonal attack\n",
    "    def _diag_attack(_v: list, debug: bool = False):\n",
    "        c = Counter(i - _v[i] for i in range(len(_v)))\n",
    "        return any(count > 1 for count in c.values())\n",
    "    # check1: completeness\n",
    "    if len(v) < n:\n",
    "        if debug:\n",
    "            print('Reason: incomplete', len(v), n)\n",
    "        return False\n",
    "    # check2: column attack\n",
    "    # note, row representation is free from row attack\n",
    "    if not all(x <= 1 for x in Counter(v).values()):\n",
    "        if debug:\n",
    "            print('Reason: column attack', Counter(v))\n",
    "        return False\n",
    "    # check3: diagonal attack\n",
    "    if _diag_attack(v, debug) or _diag_attack(list(reversed(v)), debug):\n",
    "        if debug:\n",
    "            print('Reason: diagonal attack')\n",
    "        return False\n",
    "    # passed all checks\n",
    "    return True"
   ]
  },
  {
   "cell_type": "markdown",
   "id": "6b449280",
   "metadata": {},
   "source": [
    "Next we want to write some unit tests for the solution checker to ensure correctness. And we will execute the tests.\n",
    "From the tests, we can see that the solution checker `isvalid()` is able to correctly identify the reason why the solution is invalid.\n",
    "\n",
    "*To be honest, unit test is a very good practice in software engineering.*"
   ]
  },
  {
   "cell_type": "code",
   "execution_count": 3,
   "id": "35a809e7",
   "metadata": {
    "scrolled": false
   },
   "outputs": [
    {
     "name": "stdout",
     "output_type": "stream",
     "text": [
      "Reason: column attack Counter({0: 8})\n",
      "Reason: diagonal attack\n"
     ]
    },
    {
     "data": {
      "text/plain": [
       "True"
      ]
     },
     "execution_count": 3,
     "metadata": {},
     "output_type": "execute_result"
    }
   ],
   "source": [
    "def test_isvalid():\n",
    "    sol = [x-1 for x in [5,3,1,7,2,8,6,4]]\n",
    "    #c.print(cbdump(sol))\n",
    "    assert(isvalid(sol, debug=True))\n",
    "    sol = [x-1 for x in [1,1,1,1,1,1,1,1]]\n",
    "    #c.print(cbdump(sol))\n",
    "    assert(not isvalid(sol, debug=True))\n",
    "    sol = [x-1 for x in [1,2,3,4,5,6,7,8]]\n",
    "    #c.print(cbdump(sol))\n",
    "    assert(not isvalid(sol, debug=True))\n",
    "    return True\n",
    "test_isvalid()"
   ]
  },
  {
   "cell_type": "markdown",
   "id": "828a73d1",
   "metadata": {},
   "source": [
    "### 2.2. Implement Naive deep first search\n",
    "\n",
    "We implement this in a recursive manner. This is a brute-force method.\n",
    "It traverses the whole search tree, and evaluate the solution at the leaf nodes. Only when it reaches a valid solution, it will return the valid solution. It is expected to be slow with python."
   ]
  },
  {
   "cell_type": "code",
   "execution_count": 4,
   "id": "3321e549",
   "metadata": {},
   "outputs": [],
   "source": [
    "def solve_nqueen_dfs(n: int):\n",
    "    '''\n",
    "    Naive n-queen solver in dfs, brute-force permutation method.\n",
    "    '''\n",
    "    def _solve_nqueen_dfs(v: list, n: int):\n",
    "        '''\n",
    "        recursive worker function\n",
    "        '''\n",
    "        cursor = len(v)\n",
    "        # recursion boundary: validate solution\n",
    "        if cursor == n:\n",
    "            if isvalid(v):\n",
    "                return v\n",
    "            else:\n",
    "                return False\n",
    "        # not yet reached at leaf node\n",
    "        else:\n",
    "            for i in range(n):\n",
    "                v.append(i)\n",
    "                ret = _solve_nqueen_dfs(v, n)\n",
    "                if ret:\n",
    "                    return ret\n",
    "                else:\n",
    "                    v.pop()\n",
    "    return _solve_nqueen_dfs([], n)"
   ]
  },
  {
   "cell_type": "markdown",
   "id": "fdce8e0d",
   "metadata": {},
   "source": [
    "Now we want to try to solve 8-queen with it. The result looks good and valid."
   ]
  },
  {
   "cell_type": "code",
   "execution_count": 5,
   "id": "54ccc543",
   "metadata": {
    "scrolled": true
   },
   "outputs": [
    {
     "data": {
      "text/html": [
       "<pre style=\"white-space:pre;overflow-x:auto;line-height:normal;font-family:Menlo,'DejaVu Sans Mono',consolas,'Courier New',monospace\">Q . . . . . . . \n",
       ". . . . Q . . . \n",
       ". . . . . . . Q \n",
       ". . . . . Q . . \n",
       ". . Q . . . . . \n",
       ". . . . . . Q . \n",
       ". Q . . . . . . \n",
       ". . . Q . . . . \n",
       "</pre>\n"
      ],
      "text/plain": [
       "Q . . . . . . . \n",
       ". . . . Q . . . \n",
       ". . . . . . . Q \n",
       ". . . . . Q . . \n",
       ". . Q . . . . . \n",
       ". . . . . . Q . \n",
       ". Q . . . . . . \n",
       ". . . Q . . . . \n"
      ]
     },
     "metadata": {},
     "output_type": "display_data"
    }
   ],
   "source": [
    "v = solve_nqueen_dfs(8)\n",
    "c.print(cbdump(v))"
   ]
  },
  {
   "cell_type": "markdown",
   "id": "15159118",
   "metadata": {},
   "source": [
    "## 3. Backtrack search\n",
    "\n",
    "Now we try the backtrack search. It is an extended version of depth-first search (DFS). The DFS algorithm will blindly reach all the leafs even if there is already attacks in the path it has went through. As a result, DFS is wasting traversal time for invalid leafs.\n",
    "\n",
    "Backtrack search is to prune invalid search subtrees by skipping them once there is attack in the path it has gone through. The code is very similar to DFS but please note the key difference:\n",
    "\n",
    "```\n",
    "<<<<<<< DFS\n",
    "            for i in range(n):\n",
    "                v.append(i)\n",
    "                ret = _solve_nqueen_dfs(v, n)\n",
    "                if ret:\n",
    "                    return ret\n",
    "                else:\n",
    "                    v.pop()\n",
    "=======\n",
    "            for i in range(n):\n",
    "                v.append(i)\n",
    "                if not isvalid(v):\n",
    "                    # prune the search sub tree\n",
    "                    v.pop()\n",
    "                else:\n",
    "                    ret = _solve_nqueen_backtrack(v, n)\n",
    "                    if ret:\n",
    "                        return ret\n",
    "                    else:\n",
    "                        v.pop()\n",
    ">>>>>>> Backtrack\n",
    "```"
   ]
  },
  {
   "cell_type": "code",
   "execution_count": 6,
   "id": "fc9d9dd5",
   "metadata": {},
   "outputs": [],
   "source": [
    "def solve_nqueen_backtrack(n: int):\n",
    "    '''\n",
    "    backtrack depth-first search for n-queen\n",
    "    '''\n",
    "    def _solve_nqueen_backtrack(v: list, n: int):\n",
    "        '''\n",
    "        recursive worker function\n",
    "        '''\n",
    "        cursor = len(v)\n",
    "        # recursion boundary: validate solution\n",
    "        if cursor == n:\n",
    "            if isvalid(v):\n",
    "                return v\n",
    "            else:\n",
    "                return False\n",
    "        # not yet reached at leaf node\n",
    "        else:\n",
    "            for i in range(n):\n",
    "                v.append(i)\n",
    "                if not isvalid(v):\n",
    "                    # prune the search sub tree\n",
    "                    v.pop()\n",
    "                else:\n",
    "                    ret = _solve_nqueen_backtrack(v, n)\n",
    "                    if ret:\n",
    "                        return ret\n",
    "                    else:\n",
    "                        v.pop()\n",
    "    return _solve_nqueen_backtrack([], n)"
   ]
  },
  {
   "cell_type": "markdown",
   "id": "a88dc726",
   "metadata": {},
   "source": [
    "Now we want to try it out. The result is correct."
   ]
  },
  {
   "cell_type": "code",
   "execution_count": 7,
   "id": "51f41d6d",
   "metadata": {
    "scrolled": false
   },
   "outputs": [
    {
     "data": {
      "text/html": [
       "<pre style=\"white-space:pre;overflow-x:auto;line-height:normal;font-family:Menlo,'DejaVu Sans Mono',consolas,'Courier New',monospace\">Q . . . . . . . \n",
       ". . . . Q . . . \n",
       ". . . . . . . Q \n",
       ". . . . . Q . . \n",
       ". . Q . . . . . \n",
       ". . . . . . Q . \n",
       ". Q . . . . . . \n",
       ". . . Q . . . . \n",
       "</pre>\n"
      ],
      "text/plain": [
       "Q . . . . . . . \n",
       ". . . . Q . . . \n",
       ". . . . . . . Q \n",
       ". . . . . Q . . \n",
       ". . Q . . . . . \n",
       ". . . . . . Q . \n",
       ". Q . . . . . . \n",
       ". . . Q . . . . \n"
      ]
     },
     "metadata": {},
     "output_type": "display_data"
    }
   ],
   "source": [
    "v = solve_nqueen_backtrack(8)\n",
    "c.print(cbdump(v))"
   ]
  },
  {
   "cell_type": "markdown",
   "id": "b6fc6f3e",
   "metadata": {},
   "source": [
    "## 4. Greedy Local Search"
   ]
  },
  {
   "cell_type": "markdown",
   "id": "a5fb05f9",
   "metadata": {},
   "source": [
    "### 4.1. Attack Score function\n",
    "\n",
    "To implement local search methods, we need an attack_score function which evaluates the total number of attacks in a proposed solution vector. Ideally, the solution should have 0 attack score. During local search, our goal is to minimize attack score function to 0 from some random guess as starting points."
   ]
  },
  {
   "cell_type": "code",
   "execution_count": 8,
   "id": "5460a649",
   "metadata": {},
   "outputs": [],
   "source": [
    "def attack_score(v: list) -> int:\n",
    "    '''\n",
    "    Gives an attack score for the complete or partial solution v.\n",
    "    This function is a variant to the previous `isvalid(...)` function.\n",
    "    When attack_score(...) reached at 0, the given solution is valid.\n",
    "    '''\n",
    "    attacks = 0\n",
    "    # helper function for counting diagonal attack\n",
    "    def _diag_attack(_v: list) -> int:\n",
    "        c = Counter(i - _v[i] for i in range(len(_v)))\n",
    "        return sum(max(count-1,0) for count in c.values())\n",
    "    # type1: column attack\n",
    "    attacks += sum(max(x-1, 0) for x in Counter(v).values())\n",
    "    # type2: diagonal attack\n",
    "    attacks += _diag_attack(v)\n",
    "    attacks += _diag_attack(list(reversed(v)))\n",
    "    return attacks"
   ]
  },
  {
   "cell_type": "markdown",
   "id": "5ff6994d",
   "metadata": {},
   "source": [
    "Now we write some unit tests to ensure its corrrectness."
   ]
  },
  {
   "cell_type": "code",
   "execution_count": 9,
   "id": "2f3e6d2c",
   "metadata": {},
   "outputs": [
    {
     "data": {
      "text/plain": [
       "True"
      ]
     },
     "execution_count": 9,
     "metadata": {},
     "output_type": "execute_result"
    }
   ],
   "source": [
    "def test_attack_score():\n",
    "    sol = [x-1 for x in [5,3,1,7,2,8,6,4]]\n",
    "    assert(attack_score(sol) == 0)\n",
    "    sol = [x-1 for x in [1,1,1,1,1,1,1,1]]\n",
    "    assert(attack_score(sol) == 7)\n",
    "    sol = [x-1 for x in [1,2,3,4,5,6,7,8]]\n",
    "    assert(attack_score(sol) == 7)\n",
    "    return True\n",
    "test_attack_score()"
   ]
  },
  {
   "cell_type": "markdown",
   "id": "a1efd03f",
   "metadata": {},
   "source": [
    "### 4.2. Implement Greedy Local Search\n",
    "\n",
    "This algorithm starts with a random guess. We define a move as a swap operation to swap two elements in the guessed solution vector. Then we evaluate possible moves to see whether there is any possible move can lead to a lower attack score. If there is such move, we apply that move and go to the next iteration. If none of possible moves could minimize the score to zero, we are stuck in a local minima, and we need to restart the algorithm with a new random guess."
   ]
  },
  {
   "cell_type": "code",
   "execution_count": 10,
   "id": "b31c31aa",
   "metadata": {},
   "outputs": [],
   "source": [
    "def solve_nqueen_hill(n: int, numretry: int = 10):\n",
    "    '''\n",
    "    Hill-climbing (steepest) search / Greedy local search.\n",
    "    We want to minimize attack_score starting from a random guess.\n",
    "    '''\n",
    "    def _solve_nqueen_hill(v: list, n: int, debug: bool = False):\n",
    "        def _action_score(v: list, act: tuple) -> int:\n",
    "            '''\n",
    "            evaluate the score after performing the action\n",
    "            '''\n",
    "            tmp = v.copy()\n",
    "            tmp[act[0]], tmp[act[1]] = tmp[act[1]], tmp[act[0]]\n",
    "            return attack_score(tmp)\n",
    "        for iteration in range(n):\n",
    "            # evaluate the current attack_score\n",
    "            current_score = attack_score(v)\n",
    "            if debug:\n",
    "                print('iter', iteration, 'currernt score', current_score)\n",
    "            # evaluate \n",
    "            action_scores = [(action, _action_score(v, action))\n",
    "                    for action in it.combinations(range(n), 2)]\n",
    "            action_scores.sort(key=lambda x: x[1])  # smallest goes to top\n",
    "            if debug:\n",
    "                print(action_scores)\n",
    "            # is there any better solution?\n",
    "            if action_scores[0][1] < current_score:\n",
    "                # take the action\n",
    "                act = action_scores[0][0]\n",
    "                v[act[0]], v[act[1]] = v[act[1]], v[act[0]]\n",
    "                print('swapped', act, 'and the result is', v)\n",
    "                current_score = action_scores[0][1]\n",
    "            else:\n",
    "                break\n",
    "        return v, current_score\n",
    "    # initliaze with a random guess\n",
    "    # we use a fixed random seed to ensure reproducibility\n",
    "    for itry in range(numretry):\n",
    "        v = list(range(n))\n",
    "        random.shuffle(v)\n",
    "        print('trial', itry, 'starts with', v)\n",
    "        sol, score = _solve_nqueen_hill(v, n, False)\n",
    "        if score > 0:\n",
    "            print('trial', itry, 'stuck in local minima')\n",
    "        else:\n",
    "            return v\n",
    "    return None"
   ]
  },
  {
   "cell_type": "markdown",
   "id": "ed5fbdd4",
   "metadata": {},
   "source": [
    "Then let's try it out."
   ]
  },
  {
   "cell_type": "code",
   "execution_count": 11,
   "id": "755585aa",
   "metadata": {},
   "outputs": [
    {
     "name": "stdout",
     "output_type": "stream",
     "text": [
      "trial 0 starts with [3, 6, 1, 5, 7, 0, 4, 2]\n",
      "swapped (0, 1) and the result is [6, 3, 1, 5, 7, 0, 4, 2]\n",
      "trial 0 stuck in local minima\n",
      "trial 1 starts with [2, 6, 4, 0, 1, 3, 5, 7]\n",
      "trial 1 stuck in local minima\n",
      "trial 2 starts with [2, 5, 1, 7, 0, 4, 3, 6]\n",
      "swapped (1, 5) and the result is [2, 4, 1, 7, 0, 5, 3, 6]\n",
      "swapped (5, 7) and the result is [2, 4, 1, 7, 0, 6, 3, 5]\n"
     ]
    },
    {
     "data": {
      "text/html": [
       "<pre style=\"white-space:pre;overflow-x:auto;line-height:normal;font-family:Menlo,'DejaVu Sans Mono',consolas,'Courier New',monospace\">. . Q . . . . . \n",
       ". . . . Q . . . \n",
       ". Q . . . . . . \n",
       ". . . . . . . Q \n",
       "Q . . . . . . . \n",
       ". . . . . . Q . \n",
       ". . . Q . . . . \n",
       ". . . . . Q . . \n",
       "</pre>\n"
      ],
      "text/plain": [
       ". . Q . . . . . \n",
       ". . . . Q . . . \n",
       ". Q . . . . . . \n",
       ". . . . . . . Q \n",
       "Q . . . . . . . \n",
       ". . . . . . Q . \n",
       ". . . Q . . . . \n",
       ". . . . . Q . . \n"
      ]
     },
     "metadata": {},
     "output_type": "display_data"
    }
   ],
   "source": [
    "v = solve_nqueen_hill(8)\n",
    "c.print(cbdump(v))"
   ]
  },
  {
   "cell_type": "markdown",
   "id": "99bf9394",
   "metadata": {},
   "source": [
    "## 5. Simulated Annealing\n",
    "\n",
    "This algorithm also starts with a random guess. Then we propose a random move and evaluate whether it reduces the attack score. If it reduces the attack score, we take the proposal. If not, we will still take the proposal with a given probability.\n",
    "\n",
    "In my implementation, the given probability is linearly decreasing. Namely it is simply current iteration number divided by the maximum iteration of the algorithm."
   ]
  },
  {
   "cell_type": "code",
   "execution_count": 12,
   "id": "4384c53f",
   "metadata": {},
   "outputs": [],
   "source": [
    "def solve_nqueen_simanneal(n: int, numretry: int = 10):\n",
    "    '''\n",
    "    Simulated Annealing, another local search method.\n",
    "    '''\n",
    "    def _solve_nqueen_simanneal(v: list, n: int, maxiter: int = 1000,\n",
    "            debug: bool = False):\n",
    "        def _action_score(v: list, act: tuple) -> int:\n",
    "            '''\n",
    "            evaluate the score after performing the action\n",
    "            '''\n",
    "            tmp = v.copy()\n",
    "            tmp[act[0]], tmp[act[1]] = tmp[act[1]], tmp[act[0]]\n",
    "            return attack_score(tmp)\n",
    "        for iteration in range(maxiter):\n",
    "            # evaluate the current attack_score\n",
    "            current_score = attack_score(v)\n",
    "            if debug:\n",
    "                print('iter', iteration, 'currernt score', current_score)\n",
    "            # evaluate \n",
    "            act = random.choice(list(it.combinations(range(n), 2)))\n",
    "            score = _action_score(v, act)\n",
    "            # is there any better solution?\n",
    "            if score < current_score:\n",
    "                # take the action\n",
    "                v[act[0]], v[act[1]] = v[act[1]], v[act[0]]\n",
    "                if debug:\n",
    "                    print('swapped', act, 'and the result is', v)\n",
    "                current_score = score\n",
    "            else:\n",
    "                # stuck at local minima, we try to jump out\n",
    "                threshold = iteration / maxiter\n",
    "                if random.random() >= threshold:\n",
    "                    v[act[0]], v[act[1]] = v[act[1]], v[act[0]]\n",
    "                    if debug:\n",
    "                        print('annealing', act, 'and the result is', v)\n",
    "        return v, current_score\n",
    "    # initliaze with a random guess\n",
    "    # we use a fixed random seed to ensure reproducibility\n",
    "    for itry in range(numretry):\n",
    "        v = list(range(n))\n",
    "        random.shuffle(v)\n",
    "        print('trial', itry, 'starts with', v)\n",
    "        sol, score = _solve_nqueen_simanneal(v, n, 1000, False)\n",
    "        if score > 0:\n",
    "            print('trial', itry, 'stuck in local minima')\n",
    "        else:\n",
    "            return v\n",
    "    return None"
   ]
  },
  {
   "cell_type": "markdown",
   "id": "53da02f8",
   "metadata": {},
   "source": [
    "Now let's try it out."
   ]
  },
  {
   "cell_type": "code",
   "execution_count": 13,
   "id": "6d4fd2bd",
   "metadata": {},
   "outputs": [
    {
     "name": "stdout",
     "output_type": "stream",
     "text": [
      "trial 0 starts with [7, 3, 6, 4, 5, 0, 2, 1]\n"
     ]
    },
    {
     "data": {
      "text/html": [
       "<pre style=\"white-space:pre;overflow-x:auto;line-height:normal;font-family:Menlo,'DejaVu Sans Mono',consolas,'Courier New',monospace\">. . . . . . Q . \n",
       ". Q . . . . . . \n",
       ". . . Q . . . . \n",
       "Q . . . . . . . \n",
       ". . . . . . . Q \n",
       ". . . . Q . . . \n",
       ". . Q . . . . . \n",
       ". . . . . Q . . \n",
       "</pre>\n"
      ],
      "text/plain": [
       ". . . . . . Q . \n",
       ". Q . . . . . . \n",
       ". . . Q . . . . \n",
       "Q . . . . . . . \n",
       ". . . . . . . Q \n",
       ". . . . Q . . . \n",
       ". . Q . . . . . \n",
       ". . . . . Q . . \n"
      ]
     },
     "metadata": {},
     "output_type": "display_data"
    }
   ],
   "source": [
    "v = solve_nqueen_simanneal(8)\n",
    "c.print(cbdump(v))"
   ]
  },
  {
   "cell_type": "markdown",
   "id": "36c187bf",
   "metadata": {},
   "source": [
    "## 6. Local Beam Search\n",
    "\n",
    "My implementation is a greedy version of local beam search. First we generate a random beam of size `sbeam`, which defaults to 5. Then we evaluate every possible moves starting from each solution in the beams, and keep track of the globally best `sbeam` candidate solutions during the minimization process. If none of possible move can reduce the attack score for any of the candidate solutions, we are stuck at local minima, and we need to restart the algorithm.\n",
    "\n",
    "Beam search is different from greedy local search with several random starts. Beam search tracks globally best solutions, while greedy local search with different random starts only track their own best results individually."
   ]
  },
  {
   "cell_type": "code",
   "execution_count": 14,
   "id": "05c0f2d2",
   "metadata": {},
   "outputs": [],
   "source": [
    "def solve_nqueen_beam(n: int, numretry: int = 10, sbeam: int = 5):\n",
    "    '''\n",
    "    Greedy local beam search. It is not k-start hill climbing.\n",
    "    sbeam is size of beam. default to 3.\n",
    "    '''\n",
    "    def _solve_nqueen_beam(beam: list, n: int, debug: bool = False):\n",
    "        '''\n",
    "        beam is a list of solutions.\n",
    "        '''\n",
    "        def _take_action(v: list, act: tuple) -> int:\n",
    "            tmp = v.copy()\n",
    "            tmp[act[0]], tmp[act[1]] = tmp[act[1]], tmp[act[0]]\n",
    "            return tmp, attack_score(tmp)\n",
    "        for iteration in range(n):\n",
    "            # evaluate the current attack_score\n",
    "            current_score = min(attack_score(v) for v in beam)\n",
    "            if debug:\n",
    "                print('iter', iteration, 'currernt score', current_score)\n",
    "            # evaluate steepest step for every item in beam\n",
    "            candidates = []\n",
    "            for v in beam:\n",
    "                candidates.extend([_take_action(v, action)\n",
    "                    for action in it.combinations(range(n), 2)])\n",
    "            candidates.sort(key=lambda x: x[1])  # smallest goes to top\n",
    "            if debug:\n",
    "                print(candidates[:sbeam])\n",
    "            # is there any better solution?\n",
    "            if candidates[0][1] < current_score:\n",
    "                # take the action\n",
    "                beam = [x[0] for x in candidates[:sbeam]]\n",
    "                current_score = candidates[0][1]\n",
    "            else:\n",
    "                break\n",
    "        return beam, current_score\n",
    "    # initliaze with a random guess\n",
    "    # we use a fixed random seed to ensure reproducibility\n",
    "    for itry in range(numretry):\n",
    "        beam = [list(range(n)) for _ in range(sbeam)]\n",
    "        for i in range(sbeam):\n",
    "            random.shuffle(beam[i])\n",
    "        print('trial', itry, 'starts with', beam)\n",
    "        sol, score = _solve_nqueen_beam(beam, n, True)\n",
    "        if score > 0:\n",
    "            print('trial', itry, 'stuck in local minima')\n",
    "        else:\n",
    "            return sol[0]\n",
    "    return None\n"
   ]
  },
  {
   "cell_type": "markdown",
   "id": "4c6cbc39",
   "metadata": {},
   "source": [
    "Ok let's try it out."
   ]
  },
  {
   "cell_type": "code",
   "execution_count": 15,
   "id": "7374e49a",
   "metadata": {},
   "outputs": [
    {
     "name": "stdout",
     "output_type": "stream",
     "text": [
      "trial 0 starts with [[1, 0, 3, 7, 4, 5, 6, 2], [0, 5, 2, 3, 4, 7, 6, 1], [5, 6, 7, 4, 1, 0, 2, 3], [1, 4, 5, 0, 7, 2, 3, 6], [7, 6, 1, 5, 3, 0, 4, 2]]\n",
      "iter 0 currernt score 4\n",
      "[([7, 0, 3, 1, 4, 5, 6, 2], 2), ([5, 0, 3, 7, 4, 1, 6, 2], 2), ([1, 4, 0, 5, 7, 2, 3, 6], 2), ([1, 4, 5, 0, 2, 7, 3, 6], 2), ([6, 0, 3, 7, 4, 5, 1, 2], 3)]\n",
      "iter 1 currernt score 2\n",
      "[([5, 3, 0, 7, 4, 1, 6, 2], 1), ([1, 4, 0, 5, 7, 2, 6, 3], 1), ([4, 1, 5, 0, 2, 7, 3, 6], 1), ([6, 0, 3, 7, 4, 2, 1, 5], 1), ([4, 0, 3, 1, 7, 5, 6, 2], 2)]\n",
      "iter 2 currernt score 1\n",
      "[([5, 3, 0, 4, 7, 1, 6, 2], 0), ([4, 0, 3, 5, 7, 1, 6, 2], 0), ([6, 3, 0, 7, 4, 1, 5, 2], 1), ([5, 4, 0, 7, 3, 1, 6, 2], 1), ([5, 3, 0, 6, 4, 1, 7, 2], 1)]\n",
      "iter 3 currernt score 0\n",
      "[([3, 6, 0, 7, 4, 1, 5, 2], 0), ([5, 2, 0, 7, 3, 1, 6, 4], 0), ([5, 7, 0, 4, 3, 1, 6, 2], 1), ([5, 3, 6, 4, 7, 1, 0, 2], 1), ([5, 3, 0, 7, 4, 1, 6, 2], 1)]\n"
     ]
    },
    {
     "data": {
      "text/html": [
       "<pre style=\"white-space:pre;overflow-x:auto;line-height:normal;font-family:Menlo,'DejaVu Sans Mono',consolas,'Courier New',monospace\">. . . . . Q . . \n",
       ". . . Q . . . . \n",
       "Q . . . . . . . \n",
       ". . . . Q . . . \n",
       ". . . . . . . Q \n",
       ". Q . . . . . . \n",
       ". . . . . . Q . \n",
       ". . Q . . . . . \n",
       "</pre>\n"
      ],
      "text/plain": [
       ". . . . . Q . . \n",
       ". . . Q . . . . \n",
       "Q . . . . . . . \n",
       ". . . . Q . . . \n",
       ". . . . . . . Q \n",
       ". Q . . . . . . \n",
       ". . . . . . Q . \n",
       ". . Q . . . . . \n"
      ]
     },
     "metadata": {},
     "output_type": "display_data"
    }
   ],
   "source": [
    "v = solve_nqueen_beam(8)\n",
    "c.print(cbdump(v))"
   ]
  },
  {
   "cell_type": "markdown",
   "id": "af765e46",
   "metadata": {},
   "source": [
    "## 7. Benchmarking N-Queen Solvers\n",
    "\n",
    "In this section, we would like to measure the elapsed time for each algorithm, and compare the results.\n",
    "\n",
    "First we need to write a benchmark helper."
   ]
  },
  {
   "cell_type": "code",
   "execution_count": 16,
   "id": "56b13f1a",
   "metadata": {},
   "outputs": [],
   "source": [
    "def benchmark_nqueen(n: int, logtime: bool=False):\n",
    "    '''\n",
    "    benchmark differnt solvers and make plot\n",
    "    '''\n",
    "    solvers = [\n",
    "            solve_nqueen_dfs,\n",
    "            solve_nqueen_backtrack,\n",
    "            solve_nqueen_hill,\n",
    "            solve_nqueen_simanneal,\n",
    "            solve_nqueen_beam,\n",
    "            ]\n",
    "    elapsed = []\n",
    "    print('Elapsed time:')\n",
    "    for (i, solver) in enumerate(solvers):\n",
    "        tm_start = time.time()\n",
    "        sol = solver(n)\n",
    "        tm_end = time.time()\n",
    "        print(cbdump(sol))\n",
    "        elapsed.append(tm_end - tm_start)\n",
    "        print(f'[{i}]', solvers[i].__name__, elapsed[i])\n",
    "    import matplotlib.pyplot as plt\n",
    "    if logtime:\n",
    "        plt.bar([x.__name__ for x in solvers],\n",
    "                [math.log(1000*x) for x in elapsed])\n",
    "    else:\n",
    "        plt.bar([x.__name__ for x in solvers],\n",
    "                [1000*x for x in elapsed])\n",
    "    plt.xticks(rotation=30)\n",
    "    plt.ylabel('Time Elapsed in Microsecond (ms)')\n",
    "    plt.show()\n"
   ]
  },
  {
   "cell_type": "markdown",
   "id": "0f562edd",
   "metadata": {},
   "source": [
    "We then try to compare their time consumption in log-scaled time (in microsecond)"
   ]
  },
  {
   "cell_type": "code",
   "execution_count": 17,
   "id": "c3afaf88",
   "metadata": {},
   "outputs": [
    {
     "name": "stdout",
     "output_type": "stream",
     "text": [
      "Elapsed time:\n",
      "Q . . . . . . . \n",
      ". . . . Q . . . \n",
      ". . . . . . . Q \n",
      ". . . . . Q . . \n",
      ". . Q . . . . . \n",
      ". . . . . . Q . \n",
      ". Q . . . . . . \n",
      ". . . Q . . . . \n",
      "[0] solve_nqueen_dfs 2.5081982612609863\n",
      "Q . . . . . . . \n",
      ". . . . Q . . . \n",
      ". . . . . . . Q \n",
      ". . . . . Q . . \n",
      ". . Q . . . . . \n",
      ". . . . . . Q . \n",
      ". Q . . . . . . \n",
      ". . . Q . . . . \n",
      "[1] solve_nqueen_backtrack 0.0028314590454101562\n",
      "trial 0 starts with [1, 3, 0, 2, 4, 5, 7, 6]\n",
      "swapped (0, 7) and the result is [6, 3, 0, 2, 4, 5, 7, 1]\n",
      "trial 0 stuck in local minima\n",
      "trial 1 starts with [2, 4, 7, 3, 0, 6, 5, 1]\n",
      "swapped (6, 7) and the result is [2, 4, 7, 3, 0, 6, 1, 5]\n",
      ". . Q . . . . . \n",
      ". . . . Q . . . \n",
      ". . . . . . . Q \n",
      ". . . Q . . . . \n",
      "Q . . . . . . . \n",
      ". . . . . . Q . \n",
      ". Q . . . . . . \n",
      ". . . . . Q . . \n",
      "[2] solve_nqueen_hill 0.0012879371643066406\n",
      "trial 0 starts with [0, 5, 7, 3, 1, 6, 4, 2]\n",
      ". . . . . . . Q \n",
      ". Q . . . . . . \n",
      ". . . . Q . . . \n",
      ". . Q . . . . . \n",
      "Q . . . . . . . \n",
      ". . . . . . Q . \n",
      ". . . Q . . . . \n",
      ". . . . . Q . . \n",
      "[3] solve_nqueen_simanneal 0.022532224655151367\n",
      "trial 0 starts with [[2, 4, 6, 5, 7, 0, 3, 1], [3, 1, 4, 2, 5, 0, 6, 7], [5, 6, 1, 0, 7, 4, 2, 3], [4, 1, 7, 0, 2, 3, 5, 6], [1, 4, 0, 2, 7, 6, 3, 5]]\n",
      "iter 0 currernt score 2\n",
      "[([4, 1, 3, 0, 2, 7, 5, 6], 1), ([4, 1, 7, 0, 6, 3, 5, 2], 1), ([4, 1, 7, 0, 2, 6, 5, 3], 1), ([2, 5, 6, 4, 7, 0, 3, 1], 2), ([7, 1, 4, 2, 5, 0, 6, 3], 2)]\n",
      "iter 1 currernt score 1\n",
      "[([4, 6, 3, 0, 2, 7, 5, 1], 0), ([4, 1, 3, 6, 2, 7, 5, 0], 0), ([4, 1, 5, 0, 6, 3, 7, 2], 0), ([4, 1, 5, 0, 2, 7, 3, 6], 1), ([4, 1, 6, 0, 2, 7, 5, 3], 1)]\n",
      "iter 2 currernt score 0\n",
      "[([1, 4, 6, 0, 2, 7, 5, 3], 0), ([4, 0, 3, 6, 2, 7, 5, 1], 1), ([4, 1, 3, 0, 2, 7, 5, 6], 1), ([4, 6, 3, 0, 2, 5, 7, 1], 1), ([4, 6, 3, 0, 2, 1, 5, 7], 1)]\n",
      ". . . . Q . . . \n",
      ". . . . . . Q . \n",
      ". . . Q . . . . \n",
      "Q . . . . . . . \n",
      ". . Q . . . . . \n",
      ". . . . . . . Q \n",
      ". . . . . Q . . \n",
      ". Q . . . . . . \n",
      "[4] solve_nqueen_beam 0.004686832427978516\n"
     ]
    },
    {
     "data": {
      "image/png": "[encoded data removed]",
      "text/plain": [
       "<Figure size 640x480 with 1 Axes>"
      ]
     },
     "metadata": {},
     "output_type": "display_data"
    }
   ],
   "source": [
    "benchmark_nqueen(8, True)"
   ]
  },
  {
   "cell_type": "markdown",
   "id": "a9a0c17b",
   "metadata": {},
   "source": [
    "It can be seen from the results that\n",
    "\n",
    "1. DFS (naive) is the slowest algorithm, because it blindly traverse through too many invalid paths.\n",
    "2. After pruning the invalid paths from DFS with Backtrack, it becomes one of the fastest algorithms.\n",
    "3. Greedy local search is very fast, but from the algorithm output we can see this algorithm frequently gets stuck in local minimas, and as a result we have to restart the algorithm for many times.\n",
    "4. Simulated Annealing is not very fast, because randomly guessed move is not as efficient as the deepest descent (greedy) step.\n",
    "5. Beam search, as it maintains a group of best candiates, is fast and efficient as well."
   ]
  }
 ],
 "metadata": {
  "kernelspec": {
   "display_name": "Python 3",
   "language": "python",
   "name": "python3"
  },
  "language_info": {
   "codemirror_mode": {
    "name": "ipython",
    "version": 3
   },
   "file_extension": ".py",
   "mimetype": "text/x-python",
   "name": "python",
   "nbconvert_exporter": "python",
   "pygments_lexer": "ipython3",
   "version": "3.8.8"
  }
 },
 "nbformat": 4,
 "nbformat_minor": 5
}
