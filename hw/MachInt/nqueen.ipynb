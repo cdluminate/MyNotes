{
 "cells": [
  {
   "cell_type": "markdown",
   "id": "77fcd5ed",
   "metadata": {},
   "source": [
    "# Project-1 N-Queen Solvers\n",
    "\n",
    "Author: Mo Zhou <mzhou32@jhu.edu>\n",
    "\n",
    "\n",
    "## 1. Problem Description\n",
    "\n",
    "We had lots of fun with the 8-Queens problem. In this project you will implement several search and constraint optimization algorithms for generating solutions to the 8-Queens problem. Implement four of your favorite algorithms for solving the 8-Queens problem using any language you like. Diversity in chosen search algorithms is expected. Compare their performance using appropriate metrics. \n"
   ]
  },
  {
   "cell_type": "markdown",
   "id": "b7dd93b2",
   "metadata": {},
   "source": [
    "## 2. DFS-Based Search Methods"
   ]
  }
 ],
 "metadata": {
  "kernelspec": {
   "display_name": "Python 3",
   "language": "python",
   "name": "python3"
  },
  "language_info": {
   "codemirror_mode": {
    "name": "ipython",
    "version": 3
   },
   "file_extension": ".py",
   "mimetype": "text/x-python",
   "name": "python",
   "nbconvert_exporter": "python",
   "pygments_lexer": "ipython3",
   "version": "3.8.8"
  }
 },
 "nbformat": 4,
 "nbformat_minor": 5
}
