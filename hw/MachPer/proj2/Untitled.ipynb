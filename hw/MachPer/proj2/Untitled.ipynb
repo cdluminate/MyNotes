{
 "cells": [
  {
   "cell_type": "markdown",
   "id": "18237ac3",
   "metadata": {},
   "source": [
    "# Project 2: Structure from Motion\n",
    "\n",
    "Mo Zhou <mzhou32@jhu.edu>\n",
    "\n",
    "Implement the factorization approach for structure from motion for orthographic camera case [1].\n",
    "\n",
    "Dataset: Castle Sequence, Medusa Head \n",
    "\n",
    "Reference\n",
    "[1] C. Tomasi and T. Kanade, \"Shape and motion from image streams under orthography-- a\n",
    "factorization method,\" International Journal of Computer Vision, 9(2):137--154, 1992.\n",
    "\n",
    "Submission Guidelines\n",
    "Report detailing main implementation steps, a critique on the performance of Tomasi-Kanade algorithm and failure modes, reasons for poor/superlative performance.\n",
    "\n",
    "Feature Point Tracking\n",
    "Feel free to use any feature point trackers. You are free to use any code for feature point\n",
    "tracking available online. KLT (Shi, Tomasi \"Good Features to Track\") is a popular tracker.\n",
    "Code for that is available in C/C++ as a part of the OpenCV libraries. Matlab may be available online."
   ]
  },
  {
   "cell_type": "markdown",
   "id": "4228ec19",
   "metadata": {},
   "source": [
    "## 1: Feature point extraction\n",
    "\n",
    "In this part, we extract feature points using KLT through OpenCV library.\n",
    "We first load the medusa video, extract feature points, and then store\n",
    "the feature points in the `point_stream` list. It's length is 434."
   ]
  },
  {
   "cell_type": "code",
   "execution_count": 46,
   "id": "a0320be5",
   "metadata": {},
   "outputs": [
    {
     "name": "stdout",
     "output_type": "stream",
     "text": [
      "434\n"
     ]
    }
   ],
   "source": [
    "import cv2\n",
    "import numpy as np\n",
    "import matplotlib.pyplot as plt\n",
    "\n",
    "# load dataset\n",
    "vid1 = cv2.VideoCapture('medusa.dv');\n",
    "\n",
    "# parametrs for shitomasi corner detection\n",
    "feature_params = dict(maxCorners = 100,\n",
    "                     qualityLevel=0.3,\n",
    "                     minDistance=7,\n",
    "                     blockSize=7)\n",
    "\n",
    "# parameters fro lucss kanade optical flow\n",
    "lk_params = dict(winSize=(15,15),\n",
    "                maxLevel=2,\n",
    "                criteria=(cv2.TERM_CRITERIA_EPS |\n",
    "                          cv2.TERM_CRITERIA_COUNT, 10, 0.03))\n",
    "\n",
    "# random colors\n",
    "color = np.random.randint(0, 255, (100, 3))\n",
    "# take first frame and find corners in it\n",
    "ret, old_frame = vid1.read()\n",
    "old_gray = cv2.cvtColor(old_frame, cv2.COLOR_BGR2GRAY)\n",
    "p0 = cv2.goodFeaturesToTrack(old_gray, mask=None, **feature_params)\n",
    "# create mask for plotting\n",
    "mask = np.zeros_like(old_frame)\n",
    "point_stream = []\n",
    "while ret:\n",
    "    ret, frame = vid1.read()\n",
    "    if not ret:\n",
    "        break\n",
    "    frame_gray = cv2.cvtColor(frame, cv2.COLOR_BGR2GRAY)\n",
    "    p0 = cv2.goodFeaturesToTrack(old_gray, mask=None, **feature_params)\n",
    "    # calculate optical flow\n",
    "    p1, st, err = cv2.calcOpticalFlowPyrLK(old_gray, \n",
    "                                           frame_gray, p0, None, **lk_params)\n",
    "    # select good points\n",
    "    good_new = p1[st==1]\n",
    "    good_old = p0[st==1]\n",
    "    # draw the tracks\n",
    "    for i,(new,old) in enumerate(zip(good_new,good_old)):\n",
    "        a, b = new.ravel().astype(int)\n",
    "        c, d = old.ravel().astype(int)\n",
    "        mask = cv2.line(mask, (a,b), (c,d), color[i].tolist(), 2)\n",
    "        frame = cv2.circle(frame, (a, b), 5, color[i].tolist(), -1)\n",
    "    img = cv2.add(frame, mask)\n",
    "    old_gray = frame_gray.copy()\n",
    "    p0 = good_new.reshape(-1, 1, 2)\n",
    "    point_stream.append(p0)\n",
    "print(len(point_stream))"
   ]
  },
  {
   "cell_type": "markdown",
   "id": "7591c78c",
   "metadata": {},
   "source": [
    "### 1.1 sanity check for feature point extraction\n",
    "\n",
    "We draw the feature points from the last frame as a scatter plot."
   ]
  },
  {
   "cell_type": "code",
   "execution_count": 47,
   "id": "e754cf89",
   "metadata": {
    "scrolled": true
   },
   "outputs": [
    {
     "data": {
      "text/plain": [
       "<matplotlib.collections.PathCollection at 0x7f1d68015880>"
      ]
     },
     "execution_count": 47,
     "metadata": {},
     "output_type": "execute_result"
    },
    {
     "data": {
      "image/png": "[encoded data removed]",
      "text/plain": [
       "<Figure size 432x288 with 1 Axes>"
      ]
     },
     "metadata": {
      "needs_background": "light"
     },
     "output_type": "display_data"
    }
   ],
   "source": [
    "x = point_stream[-1].reshape([-1, 2])\n",
    "plt.scatter(x[:,0], x[:,1])"
   ]
  },
  {
   "cell_type": "markdown",
   "id": "fd0b460d",
   "metadata": {},
   "source": [
    "## 2. Paper implementation"
   ]
  },
  {
   "cell_type": "code",
   "execution_count": 57,
   "id": "b67c250d",
   "metadata": {},
   "outputs": [
    {
     "name": "stdout",
     "output_type": "stream",
     "text": [
      "(259, 100, 2)\n",
      "(259, 100) (259, 100)\n",
      "(518, 100)\n"
     ]
    }
   ],
   "source": [
    "# 2.1 organize input data and filter some bad ones\n",
    "pts = np.stack([x for x in point_stream if x.shape[0] == 100])\n",
    "pts = pts.reshape(-1, 100, 2)\n",
    "print(pts.shape) # (F, P, (u, v))\n",
    "U = pts[:, :, 0]\n",
    "V = pts[:, :, 1]\n",
    "print(U.shape, V.shape)\n",
    "W = np.vstack([U, V])  # measurement matrix\n",
    "print(W.shape)"
   ]
  },
  {
   "cell_type": "markdown",
   "id": "1ee8f6ab",
   "metadata": {},
   "source": [
    "# References\n",
    "\n",
    "1. https://stackoverflow.com/questions/49811072/klt-tracker-in-opencv-not-working-properly-with-python"
   ]
  }
 ],
 "metadata": {
  "kernelspec": {
   "display_name": "Python 3",
   "language": "python",
   "name": "python3"
  },
  "language_info": {
   "codemirror_mode": {
    "name": "ipython",
    "version": 3
   },
   "file_extension": ".py",
   "mimetype": "text/x-python",
   "name": "python",
   "nbconvert_exporter": "python",
   "pygments_lexer": "ipython3",
   "version": "3.8.8"
  }
 },
 "nbformat": 4,
 "nbformat_minor": 5
}
