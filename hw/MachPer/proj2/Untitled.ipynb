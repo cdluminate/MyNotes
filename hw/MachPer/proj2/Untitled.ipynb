{
 "cells": [
  {
   "cell_type": "markdown",
   "id": "ee5610b6",
   "metadata": {},
   "source": [
    "# Project 2: Structure from Motion\n",
    "\n",
    "Mo Zhou <mzhou32@jhu.edu>\n",
    "\n",
    "Implement the factorization approach for structure from motion for orthographic camera case [1].\n",
    "\n",
    "Dataset: Castle Sequence, Medusa Head \n",
    "\n",
    "Reference\n",
    "[1] C. Tomasi and T. Kanade, \"Shape and motion from image streams under orthography-- a\n",
    "factorization method,\" International Journal of Computer Vision, 9(2):137--154, 1992.\n",
    "\n",
    "Submission Guidelines\n",
    "Report detailing main implementation steps, a critique on the performance of Tomasi-Kanade algorithm and failure modes, reasons for poor/superlative performance.\n",
    "\n",
    "Feature Point Tracking\n",
    "Feel free to use any feature point trackers. You are free to use any code for feature point\n",
    "tracking available online. KLT (Shi, Tomasi \"Good Features to Track\") is a popular tracker.\n",
    "Code for that is available in C/C++ as a part of the OpenCV libraries. Matlab may be available online."
   ]
  },
  {
   "cell_type": "markdown",
   "id": "a05996be",
   "metadata": {},
   "source": [
    "## 1: Feature point extraction\n",
    "\n",
    "In this part, we extract feature points using KLT through OpenCV library.\n",
    "We first load the medusa video, extract feature points, and then store\n",
    "the feature points in the `point_stream` list. It's length is 434."
   ]
  },
  {
   "cell_type": "code",
   "execution_count": 19,
   "id": "36fec88b",
   "metadata": {},
   "outputs": [
    {
     "name": "stdout",
     "output_type": "stream",
     "text": [
      "434\n"
     ]
    }
   ],
   "source": [
    "import cv2\n",
    "import numpy as np\n",
    "import matplotlib.pyplot as plt\n",
    "\n",
    "# load dataset\n",
    "vid1 = cv2.VideoCapture('medusa.dv');\n",
    "\n",
    "# parametrs for shitomasi corner detection\n",
    "Ncorner = 128\n",
    "feature_params = dict(maxCorners = Ncorner,\n",
    "                     qualityLevel=0.3,\n",
    "                     minDistance=7,\n",
    "                     blockSize=7)\n",
    "\n",
    "# parameters fro lucss kanade optical flow\n",
    "lk_params = dict(winSize=(15,15),\n",
    "                maxLevel=2,\n",
    "                criteria=(cv2.TERM_CRITERIA_EPS |\n",
    "                          cv2.TERM_CRITERIA_COUNT, 10, 0.03))\n",
    "\n",
    "# random colors\n",
    "color = np.random.randint(0, 255, (Ncorner, 3))\n",
    "# take first frame and find corners in it\n",
    "ret, old_frame = vid1.read()\n",
    "old_gray = cv2.cvtColor(old_frame, cv2.COLOR_BGR2GRAY)\n",
    "p0 = cv2.goodFeaturesToTrack(old_gray, mask=None, **feature_params)\n",
    "# create mask for plotting\n",
    "mask = np.zeros_like(old_frame)\n",
    "point_stream = []\n",
    "while ret:\n",
    "    ret, frame = vid1.read()\n",
    "    if not ret:\n",
    "        break\n",
    "    frame_gray = cv2.cvtColor(frame, cv2.COLOR_BGR2GRAY)\n",
    "    p0 = cv2.goodFeaturesToTrack(old_gray, mask=None, **feature_params)\n",
    "    # calculate optical flow\n",
    "    p1, st, err = cv2.calcOpticalFlowPyrLK(old_gray, \n",
    "                                           frame_gray, p0, None, **lk_params)\n",
    "    # select good points\n",
    "    good_new = p1[st==1]\n",
    "    good_old = p0[st==1]\n",
    "    # draw the tracks\n",
    "    for i,(new,old) in enumerate(zip(good_new,good_old)):\n",
    "        a, b = new.ravel().astype(int)\n",
    "        c, d = old.ravel().astype(int)\n",
    "        mask = cv2.line(mask, (a,b), (c,d), color[i].tolist(), 2)\n",
    "        frame = cv2.circle(frame, (a, b), 5, color[i].tolist(), -1)\n",
    "    img = cv2.add(frame, mask)\n",
    "    old_gray = frame_gray.copy()\n",
    "    p0 = good_new.reshape(-1, 1, 2)\n",
    "    point_stream.append(p0)\n",
    "print(len(point_stream))"
   ]
  },
  {
   "cell_type": "markdown",
   "id": "f56607a4",
   "metadata": {},
   "source": [
    "### 1.1 sanity check for feature point extraction\n",
    "\n",
    "We draw the feature points from the last frame as a scatter plot."
   ]
  },
  {
   "cell_type": "code",
   "execution_count": 20,
   "id": "13f67aae",
   "metadata": {
    "scrolled": true
   },
   "outputs": [
    {
     "data": {
      "text/plain": [
       "<matplotlib.collections.PathCollection at 0x7f8670537520>"
      ]
     },
     "execution_count": 20,
     "metadata": {},
     "output_type": "execute_result"
    },
    {
     "data": {
      "image/png": "[encoded data removed]",
      "text/plain": [
       "<Figure size 432x288 with 1 Axes>"
      ]
     },
     "metadata": {
      "needs_background": "light"
     },
     "output_type": "display_data"
    }
   ],
   "source": [
    "x = point_stream[-1].reshape([-1, 2])\n",
    "plt.scatter(x[:,0], x[:,1])"
   ]
  },
  {
   "cell_type": "markdown",
   "id": "a27476b4",
   "metadata": {},
   "source": [
    "## 2. Paper implementation\n",
    "\n",
    "Data is organized into matrices. Preprocessing is done following the Section 3 of the paper. The algorithm is implemented following Section 3.4 of the paper."
   ]
  },
  {
   "cell_type": "code",
   "execution_count": 21,
   "id": "bc9e1877",
   "metadata": {},
   "outputs": [
    {
     "name": "stdout",
     "output_type": "stream",
     "text": [
      "(240, 128, 2)\n",
      "(240, 128) (240, 128)\n",
      "(480, 128)\n"
     ]
    }
   ],
   "source": [
    "# 2.1 organize input data\n",
    "pts = np.stack([x for x in point_stream if x.shape[0] == Ncorner])\n",
    "pts = pts.reshape(-1, Ncorner, 2)\n",
    "print(pts.shape) # (F, P, (u, v))\n",
    "U = pts[:, :, 0]\n",
    "V = pts[:, :, 1]\n",
    "print(U.shape, V.shape)\n",
    "W = np.vstack([U, V])  # measurement matrix\n",
    "print(W.shape)"
   ]
  },
  {
   "cell_type": "code",
   "execution_count": 22,
   "id": "90163eec",
   "metadata": {},
   "outputs": [
    {
     "name": "stdout",
     "output_type": "stream",
     "text": [
      "(480, 128)\n"
     ]
    }
   ],
   "source": [
    "# 2.2 pre-process data: registered measurement matrix.\n",
    "tildeU = U - U.mean(axis=1).reshape(-1, 1)\n",
    "tildeV = V - V.mean(axis=1).reshape(-1, 1)\n",
    "tildeW = np.vstack([tildeU, tildeV])\n",
    "print(tildeW.shape)\n",
    "# --> this is the input to the factorization method"
   ]
  },
  {
   "cell_type": "code",
   "execution_count": 23,
   "id": "fc328616",
   "metadata": {},
   "outputs": [
    {
     "name": "stdout",
     "output_type": "stream",
     "text": [
      "(480, 480) (128,) (128, 128)\n"
     ]
    }
   ],
   "source": [
    "# (1) compute the SVD for \\tilde{W}\n",
    "O1, Sigma, O2 = np.linalg.svd(tildeW)\n",
    "print(O1.shape, Sigma.shape, O2.shape)"
   ]
  },
  {
   "cell_type": "code",
   "execution_count": 24,
   "id": "eb7bda66",
   "metadata": {
    "scrolled": false
   },
   "outputs": [
    {
     "name": "stdout",
     "output_type": "stream",
     "text": [
      "(480, 3)\n",
      "(3, 128)\n",
      "(480, 3)\n",
      "(3, 128)\n"
     ]
    }
   ],
   "source": [
    "# (2) define \\hat{R} and \\hat{S}\n",
    "O1prime = O1[:,0:3]; print(O1prime.shape)\n",
    "O2prime = O2[0:3,:]; print(O2prime.shape)\n",
    "hatR = O1prime @ np.diag(np.sqrt(Sigma[:3])); print(hatR.shape)\n",
    "hatS = np.diag(np.sqrt(Sigma[:3])) @ O2prime; print(hatS.shape)"
   ]
  },
  {
   "cell_type": "code",
   "execution_count": 42,
   "id": "5314f9b2",
   "metadata": {
    "scrolled": true
   },
   "outputs": [
    {
     "name": "stdout",
     "output_type": "stream",
     "text": [
      "[[0.66253672 0.00915788 0.00133546]\n",
      " [0.00915788 0.23718774 0.02778824]\n",
      " [0.00133546 0.02778824 0.70987973]]\n",
      "[0.71157918 0.66265759 0.23536742]\n",
      "[[0.81396359 0.         0.        ]\n",
      " [0.01125097 0.48688926 0.        ]\n",
      " [0.00164069 0.05703511 0.84060932]]\n"
     ]
    }
   ],
   "source": [
    "# (3) compute matrix Q in Eq.15 by imposing the metric constraints in Eq.16\n",
    "NF = hatR.shape[0]//2\n",
    "\n",
    "# Is = hatR[:NF, :]\n",
    "# Js = hatR[NF:2*NF, :]\n",
    "# def gfun(a, b):\n",
    "#     return np.array([a[0]*b[0], a[0]*b[1]+a[1]*b[0], a[0]*b[2]+a[2]*b[0],\n",
    "#                      a[1]*b[1], a[1]*b[2]+a[2]*b[1], a[2]*b[2]])\n",
    "# G = np.zeros((3*NF, 6))\n",
    "# for i in range(3*NF):\n",
    "#     if i < NF:\n",
    "#         G[i, :] = gfun(Is[i, :], Is[i, :])\n",
    "#     elif i < NF*2:\n",
    "#         G[i, :] = gfun(Js[i%(NF), :], Js[i%(NF), :])\n",
    "#     else:\n",
    "#         G[i, :] = gfun(Is[i%(2*NF), :], Js[i%(2*NF), :])\n",
    "# c = np.vstack([np.ones((2*NF, 1)), np.zeros((NF, 1))])\n",
    "# tU, tS, tV = np.linalg.svd(G)\n",
    "# hatl = tU.T @ c;\n",
    "# y = [hatl[0]/np.diag(tS)[0,0], hatl[1]/np.diag(tS)[1,1],\n",
    "#          hatl[2]/np.diag(tS)[2,2], hatl[3]/np.diag(tS)[3,3],\n",
    "#      hatl[4]/np.diag(tS)[4,4], hatl[5]/np.diag(tS)[5,5]]\n",
    "# l = tV @ y;\n",
    "# L = np.array([l[0], l[1], l[2], l[1], l[3], l[4], l[2], l[4], l[5]])\n",
    "# L = L.reshape((3,3))\n",
    "# print(L)\n",
    "# Q = np.linalg.cholesky(L)\n",
    "\n",
    "\n",
    "R_cap_i = hatR[:NF, :]\n",
    "R_cap_j = hatR[NF:2*NF, :]\n",
    "A = np.zeros((2*NF, 6))\n",
    "for i in range(NF):\n",
    "    A[2 * i, 0] = (R_cap_i[i, 0] ** 2) - (R_cap_j[i, 0] ** 2)\n",
    "    A[2 * i, 1] = 2 * ((R_cap_i[i, 0] * R_cap_i[i, 1]) - (R_cap_j[i, 0] * R_cap_j[i, 1]))\n",
    "    A[2 * i, 2] = 2 * ((R_cap_i[i, 0] * R_cap_i[i, 2]) - (R_cap_j[i, 0] * R_cap_j[i, 2]))\n",
    "    A[2 * i, 3] = (R_cap_i[i, 1] ** 2) - (R_cap_j[i, 1] ** 2)\n",
    "    A[2 * i, 5] = (R_cap_i[i, 2] ** 2) - (R_cap_j[i, 2] ** 2)\n",
    "    A[2 * i, 4] = 2 * ((R_cap_i[i, 2] * R_cap_i[i, 1]) - (R_cap_j[i, 2] * R_cap_j[i, 1]))\n",
    "    A[2 * i + 1, 0] = R_cap_i[i, 0] * R_cap_j[i, 0]\n",
    "    A[2 * i + 1, 1] = R_cap_i[i, 1] * R_cap_j[i, 0] + R_cap_i[i, 0] * R_cap_j[i, 1]\n",
    "    A[2 * i + 1, 2] = R_cap_i[i, 2] * R_cap_j[i, 0] + R_cap_i[i, 0] * R_cap_j[i, 2]\n",
    "    A[2 * i + 1, 3] = R_cap_i[i, 1] * R_cap_j[i, 1]\n",
    "    A[2 * i + 1, 4] = R_cap_i[i, 2] * R_cap_j[i, 1] + R_cap_i[i, 1] * R_cap_j[i, 2]\n",
    "    A[2 * i + 1, 5] = R_cap_i[i, 2] * R_cap_j[i, 2]\n",
    "tmpU, tmpS, tmpV = np.linalg.svd(A)\n",
    "QQT = np.zeros((3,3))\n",
    "v = tmpV[-1,:]\n",
    "QQT[0, 0] = v[0]\n",
    "QQT[1, 1] = v[3]\n",
    "QQT[2, 2] = v[5]\n",
    "QQT[0, 1] = v[1]\n",
    "QQT[1, 0] = v[1]\n",
    "QQT[0, 2] = v[2]\n",
    "QQT[2, 0] = v[2]\n",
    "QQT[2, 1] = v[4]\n",
    "QQT[1, 2] = v[4]\n",
    "QQT = np.abs(QQT)\n",
    "print(QQT)\n",
    "tmpU, tmpS, tmpV = np.linalg.svd(QQT)\n",
    "print(tmpS)\n",
    "Q = np.linalg.cholesky(QQT)\n",
    "print(Q)"
   ]
  },
  {
   "cell_type": "code",
   "execution_count": 43,
   "id": "cc484ee5",
   "metadata": {},
   "outputs": [],
   "source": [
    "# (4) compute the rotation matrix R and the shape matrix S\n",
    "Qinv = np.linalg.inv(Q)\n",
    "R = hatR @ Q\n",
    "S = Qinv @ hatS"
   ]
  },
  {
   "cell_type": "code",
   "execution_count": 44,
   "id": "bca59ce8",
   "metadata": {},
   "outputs": [],
   "source": [
    "# (5) create point cloud\n",
    "X = S[0,:]\n",
    "Y = S[1,:]\n",
    "Z = S[2,:]\n",
    "pc = np.zeros((X.shape[0], 3))\n",
    "pc[:, 0] = X\n",
    "pc[:, 1] = Y\n",
    "pc[:, 2] = Z\n",
    "\n",
    "import open3d as o3d\n",
    "pcd = o3d.geometry.PointCloud()\n",
    "pcd.points = o3d.utility.Vector3dVector(pc)\n",
    "o3d.io.write_point_cloud(\"pc.ply\", pcd)\n",
    "pcd_load = o3d.io.read_point_cloud(\"pc.ply\")\n",
    "o3d.visualization.draw_geometries([pcd_load])"
   ]
  },
  {
   "attachments": {
    "image-2.png": {
     "image/png": "[encoded data removed]"
    }
   },
   "cell_type": "markdown",
   "id": "0c297321",
   "metadata": {},
   "source": [
    "![image-2.png](attachment:image-2.png)"
   ]
  },
  {
   "cell_type": "markdown",
   "id": "58e8b1a4",
   "metadata": {},
   "source": [
    "# Castle\n",
    "\n",
    "We use the same code as that for the medusa video. Only the part for loading data has been changed. Number of corners is set as 256."
   ]
  },
  {
   "cell_type": "code",
   "execution_count": 16,
   "id": "86a00664",
   "metadata": {},
   "outputs": [
    {
     "name": "stdout",
     "output_type": "stream",
     "text": [
      "27\n"
     ]
    }
   ],
   "source": [
    "import cv2\n",
    "import numpy as np\n",
    "import matplotlib.pyplot as plt\n",
    "\n",
    "# load dataset\n",
    "vid1 = cv2.imread('castle/castle.000.jpg');\n",
    "\n",
    "# parametrs for shitomasi corner detection\n",
    "Ncorner = 256\n",
    "feature_params = dict(maxCorners = Ncorner,\n",
    "                     qualityLevel=0.3,\n",
    "                     minDistance=7,\n",
    "                     blockSize=7)\n",
    "\n",
    "# parameters fro lucss kanade optical flow\n",
    "lk_params = dict(winSize=(15,15),\n",
    "                maxLevel=2,\n",
    "                criteria=(cv2.TERM_CRITERIA_EPS |\n",
    "                          cv2.TERM_CRITERIA_COUNT, 10, 0.03))\n",
    "\n",
    "# random colors\n",
    "color = np.random.randint(0, 255, (Ncorner, 3))\n",
    "# take first frame and find corners in it\n",
    "old_frame = vid1\n",
    "old_gray = cv2.cvtColor(old_frame, cv2.COLOR_BGR2GRAY)\n",
    "p0 = cv2.goodFeaturesToTrack(old_gray, mask=None, **feature_params)\n",
    "# create mask for plotting\n",
    "mask = np.zeros_like(old_frame)\n",
    "point_stream = []\n",
    "for i in range(1, 27+1):\n",
    "    frame = cv2.imread(f'castle/castle.{i:03d}.jpg')\n",
    "    frame_gray = cv2.cvtColor(frame, cv2.COLOR_BGR2GRAY)\n",
    "    p0 = cv2.goodFeaturesToTrack(old_gray, mask=None, **feature_params)\n",
    "    # calculate optical flow\n",
    "    p1, st, err = cv2.calcOpticalFlowPyrLK(old_gray, \n",
    "                                           frame_gray, p0, None, **lk_params)\n",
    "    # select good points\n",
    "    good_new = p1[st==1]\n",
    "    good_old = p0[st==1]\n",
    "    # draw the tracks\n",
    "    for i,(new,old) in enumerate(zip(good_new,good_old)):\n",
    "        a, b = new.ravel().astype(int)\n",
    "        c, d = old.ravel().astype(int)\n",
    "        mask = cv2.line(mask, (a,b), (c,d), color[i].tolist(), 2)\n",
    "        frame = cv2.circle(frame, (a, b), 5, color[i].tolist(), -1)\n",
    "    img = cv2.add(frame, mask)\n",
    "    old_gray = frame_gray.copy()\n",
    "    p0 = good_new.reshape(-1, 1, 2)\n",
    "    point_stream.append(p0)\n",
    "print(len(point_stream))"
   ]
  },
  {
   "cell_type": "code",
   "execution_count": 17,
   "id": "09365c88",
   "metadata": {},
   "outputs": [
    {
     "data": {
      "text/plain": [
       "<matplotlib.collections.PathCollection at 0x7f035c4c3730>"
      ]
     },
     "execution_count": 17,
     "metadata": {},
     "output_type": "execute_result"
    },
    {
     "data": {
      "image/png": "[encoded data removed]",
      "text/plain": [
       "<Figure size 432x288 with 1 Axes>"
      ]
     },
     "metadata": {
      "needs_background": "light"
     },
     "output_type": "display_data"
    }
   ],
   "source": [
    "x = point_stream[-1].reshape([-1, 2])\n",
    "plt.scatter(x[:,0], x[:,1])"
   ]
  },
  {
   "cell_type": "code",
   "execution_count": 18,
   "id": "64f63e2f",
   "metadata": {},
   "outputs": [
    {
     "name": "stdout",
     "output_type": "stream",
     "text": [
      "(5, 256, 2)\n",
      "(5, 256) (5, 256)\n",
      "(10, 256)\n"
     ]
    }
   ],
   "source": [
    "# 2.1 organize input data\n",
    "pts = np.stack([x for x in point_stream if x.shape[0] == Ncorner])\n",
    "pts = pts.reshape(-1, Ncorner, 2)\n",
    "print(pts.shape) # (F, P, (u, v))\n",
    "U = pts[:, :, 0]\n",
    "V = pts[:, :, 1]\n",
    "print(U.shape, V.shape)\n",
    "W = np.vstack([U, V])  # measurement matrix\n",
    "print(W.shape)"
   ]
  },
  {
   "cell_type": "code",
   "execution_count": 19,
   "id": "d9c3341a",
   "metadata": {},
   "outputs": [
    {
     "name": "stdout",
     "output_type": "stream",
     "text": [
      "(10, 256)\n"
     ]
    }
   ],
   "source": [
    "# 2.2 pre-process data: registered measurement matrix.\n",
    "tildeU = U - U.mean(axis=1).reshape(-1, 1)\n",
    "tildeV = V - V.mean(axis=1).reshape(-1, 1)\n",
    "tildeW = np.vstack([tildeU, tildeV])\n",
    "print(tildeW.shape)\n",
    "# --> this is the input to the factorization method"
   ]
  },
  {
   "cell_type": "code",
   "execution_count": 20,
   "id": "a4e6bf6e",
   "metadata": {},
   "outputs": [
    {
     "name": "stdout",
     "output_type": "stream",
     "text": [
      "(10, 10) (10,) (256, 256)\n"
     ]
    }
   ],
   "source": [
    "# (1) compute the SVD for \\tilde{W}\n",
    "O1, Sigma, O2 = np.linalg.svd(tildeW)\n",
    "print(O1.shape, Sigma.shape, O2.shape)"
   ]
  },
  {
   "cell_type": "code",
   "execution_count": 21,
   "id": "464bf437",
   "metadata": {},
   "outputs": [
    {
     "name": "stdout",
     "output_type": "stream",
     "text": [
      "(10, 3)\n",
      "(3, 256)\n",
      "(10, 3)\n",
      "(3, 256)\n"
     ]
    }
   ],
   "source": [
    "# (2) define \\hat{R} and \\hat{S}\n",
    "O1prime = O1[:,0:3]; print(O1prime.shape)\n",
    "O2prime = O2[0:3,:]; print(O2prime.shape)\n",
    "hatR = O1prime @ np.diag(np.sqrt(Sigma[:3])); print(hatR.shape)\n",
    "hatS = np.diag(np.sqrt(Sigma[:3])) @ O2prime; print(hatS.shape)"
   ]
  },
  {
   "cell_type": "code",
   "execution_count": 25,
   "id": "a07e1597",
   "metadata": {},
   "outputs": [
    {
     "name": "stdout",
     "output_type": "stream",
     "text": [
      "[[ 0.38677718 -0.50670773  0.10564281]\n",
      " [-0.50670773 -0.04527938 -0.71004978]\n",
      " [ 0.10564281 -0.71004978 -0.2761691 ]]\n",
      "[0.94915272 0.9321265  0.04830249]\n",
      "[[-0.63250528  0.19798428  0.16097213]\n",
      " [ 0.61618021  0.65694294  0.08134253]\n",
      " [-0.41159657  0.67923096 -0.12559403]]\n"
     ]
    }
   ],
   "source": [
    "# (3) compute matrix Q in Eq.15 by imposing the metric constraints in Eq.16\n",
    "NF = hatR.shape[0]//2\n",
    "R_cap_i = hatR[:NF, :]\n",
    "R_cap_j = hatR[NF:2*NF, :]\n",
    "A = np.zeros((2*NF, 6))\n",
    "for i in range(NF):\n",
    "    A[2 * i, 0] = (R_cap_i[i, 0] ** 2) - (R_cap_j[i, 0] ** 2)\n",
    "    A[2 * i, 1] = 2 * ((R_cap_i[i, 0] * R_cap_i[i, 1]) - (R_cap_j[i, 0] * R_cap_j[i, 1]))\n",
    "    A[2 * i, 2] = 2 * ((R_cap_i[i, 0] * R_cap_i[i, 2]) - (R_cap_j[i, 0] * R_cap_j[i, 2]))\n",
    "    A[2 * i, 3] = (R_cap_i[i, 1] ** 2) - (R_cap_j[i, 1] ** 2)\n",
    "    A[2 * i, 5] = (R_cap_i[i, 2] ** 2) - (R_cap_j[i, 2] ** 2)\n",
    "    A[2 * i, 4] = 2 * ((R_cap_i[i, 2] * R_cap_i[i, 1]) - (R_cap_j[i, 2] * R_cap_j[i, 1]))\n",
    "    A[2 * i + 1, 0] = R_cap_i[i, 0] * R_cap_j[i, 0]\n",
    "    A[2 * i + 1, 1] = R_cap_i[i, 1] * R_cap_j[i, 0] + R_cap_i[i, 0] * R_cap_j[i, 1]\n",
    "    A[2 * i + 1, 2] = R_cap_i[i, 2] * R_cap_j[i, 0] + R_cap_i[i, 0] * R_cap_j[i, 2]\n",
    "    A[2 * i + 1, 3] = R_cap_i[i, 1] * R_cap_j[i, 1]\n",
    "    A[2 * i + 1, 4] = R_cap_i[i, 2] * R_cap_j[i, 1] + R_cap_i[i, 1] * R_cap_j[i, 2]\n",
    "    A[2 * i + 1, 5] = R_cap_i[i, 2] * R_cap_j[i, 2]\n",
    "tmpU, tmpS, tmpV = np.linalg.svd(A)\n",
    "QQT = np.zeros((3,3))\n",
    "v = tmpV[-1,:]\n",
    "QQT[0, 0] = v[0]\n",
    "QQT[1, 1] = v[3]\n",
    "QQT[2, 2] = v[5]\n",
    "QQT[0, 1] = v[1]\n",
    "QQT[1, 0] = v[1]\n",
    "QQT[0, 2] = v[2]\n",
    "QQT[2, 0] = v[2]\n",
    "QQT[2, 1] = v[4]\n",
    "QQT[1, 2] = v[4]\n",
    "#QQT = np.abs(QQT)\n",
    "print(QQT)\n",
    "tmpU, tmpS, tmpV = np.linalg.svd(QQT)\n",
    "print(tmpS)\n",
    "#Q = np.linalg.cholesky(QQT)\n",
    "Q = tmpU @ np.diag(tmpS)**(1/2)\n",
    "print(Q)"
   ]
  },
  {
   "cell_type": "code",
   "execution_count": 26,
   "id": "fe6b8854",
   "metadata": {},
   "outputs": [],
   "source": [
    "# (4) compute the rotation matrix R and the shape matrix S\n",
    "Qinv = np.linalg.inv(Q)\n",
    "R = hatR @ Q\n",
    "S = Qinv @ hatS"
   ]
  },
  {
   "cell_type": "code",
   "execution_count": 28,
   "id": "df967c46",
   "metadata": {},
   "outputs": [],
   "source": [
    "# (5) create point cloud\n",
    "X = S[0,:]\n",
    "Y = S[1,:]\n",
    "Z = S[2,:]\n",
    "pc = np.zeros((X.shape[0], 3))\n",
    "pc[:, 0] = X\n",
    "pc[:, 1] = Y\n",
    "pc[:, 2] = Z\n",
    "\n",
    "import open3d as o3d\n",
    "pcd = o3d.geometry.PointCloud()\n",
    "pcd.points = o3d.utility.Vector3dVector(pc)\n",
    "o3d.io.write_point_cloud(\"pc.ply\", pcd)\n",
    "pcd_load = o3d.io.read_point_cloud(\"pc.ply\")\n",
    "o3d.visualization.draw_geometries([pcd_load])"
   ]
  },
  {
   "attachments": {
    "image.png": {
     "image/png": "[encoded data removed]"
    }
   },
   "cell_type": "markdown",
   "id": "16e756cb",
   "metadata": {},
   "source": [
    "![image.png](attachment:image.png)"
   ]
  },
  {
   "cell_type": "markdown",
   "id": "cb2ab8c2",
   "metadata": {},
   "source": [
    "# References\n",
    "\n",
    "1. https://stackoverflow.com/questions/49811072/klt-tracker-in-opencv-not-working-properly-with-python (borrowed the KLT example)\n",
    "2. https://github.com/aj161198/Structure_From_Motion/blob/master/reconstruct.py (borrowed the solution to Q)\n",
    "3. https://github.com/akanazawa/Structure-from-Motion/blob/master/do_factorization.m (borrowed solution to Q)"
   ]
  }
 ],
 "metadata": {
  "kernelspec": {
   "display_name": "Python 3",
   "language": "python",
   "name": "python3"
  },
  "language_info": {
   "codemirror_mode": {
    "name": "ipython",
    "version": 3
   },
   "file_extension": ".py",
   "mimetype": "text/x-python",
   "name": "python",
   "nbconvert_exporter": "python",
   "pygments_lexer": "ipython3",
   "version": "3.8.8"
  }
 },
 "nbformat": 4,
 "nbformat_minor": 5
}
